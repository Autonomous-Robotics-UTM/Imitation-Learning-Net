{
 "cells": [
  {
   "cell_type": "code",
   "execution_count": 1,
   "metadata": {},
   "outputs": [
    {
     "name": "stdout",
     "output_type": "stream",
     "text": [
      "importing Jupyter notebook from CustomDataset.ipynb\n"
     ]
    }
   ],
   "source": [
    "import import_ipynb\n",
    "from CustomDataset import ControlsDataset\n",
    "\n",
    "import os\n",
    "import torch\n",
    "from skimage import io, transform\n",
    "import numpy as np\n",
    "import matplotlib.pyplot as plt\n",
    "from torch.utils.data import Dataset, DataLoader\n",
    "import torch.nn as nn\n",
    "import torch.nn.functional as F\n",
    "\n",
    "# Ignore warnings\n",
    "import warnings\n",
    "import time\n",
    "warnings.filterwarnings(\"ignore\")\n",
    "\n",
    "from tqdm.notebook import tqdm_notebook"
   ]
  },
  {
   "cell_type": "code",
   "execution_count": 3,
   "metadata": {},
   "outputs": [],
   "source": [
    "class Trainer():\n",
    "    def __init__(self, device, model, dataset, optimizer, criterion):\n",
    "        self.device = device\n",
    "        self.model = model\n",
    "        self.optimizer = optimizer\n",
    "        self.criterion = criterion\n",
    "        self.dataset = dataset\n",
    "        \n",
    "    def initializeEpoch(self):\n",
    "        self.summation = 0\n",
    "        self.val_summation = 0\n",
    "        self.validation_training = enumerate(self.dataset.validloader)\n",
    "    \n",
    "    def fit(self, epochs, report_period):\n",
    "        save_path = \"snapshots/{}_{:.5f}_weights.pt\"\n",
    "        iters_trained = []\n",
    "        training_losses = []\n",
    "        validation_losses = []\n",
    "        count = 0\n",
    "        \n",
    "        for epoch in range(epochs):\n",
    "            self.initializeEpoch()\n",
    "            for i_batch, sampled_batch in tqdm_notebook(enumerate(self.dataset.dataloader),\n",
    "                                                       total=len(self.dataset.dataloader)):\n",
    "\n",
    "                torch.cuda.empty_cache()\n",
    "                self.model.train()\n",
    "                #inputs and forward pass\n",
    "                images = sampled_batch['image'].to(self.device).float()\n",
    "                controls = sampled_batch['control'].to(self.device).long()\n",
    "                controls = torch.flatten(controls)\n",
    "                \n",
    "                #backwards pass\n",
    "                self.optimizer.zero_grad()\n",
    "                prediction = self.model(images)\n",
    "                prediction = torch.flatten(prediction)\n",
    "                \n",
    "                print(\"Predictions\", prediction.shape)\n",
    "                print(\"controls\", controls.shape)\n",
    "                \n",
    "                #calculate loss\n",
    "                loss = self.criterion(prediction, controls)\n",
    "                loss.backward()\n",
    "                self.optimizer.step()\n",
    "                \n",
    "                torch.cuda.empty_cache()\n",
    "                \n",
    "                #get batch losses\n",
    "                val_i,batch = self.validationBatch()\n",
    "                val_loss = self.score(batch)\n",
    "                self.summation += float(loss.data)\n",
    "                self.val_summation += float(val_loss.data)\n",
    "                \n",
    "                if i_batch % report_period == 0:\n",
    "                    iters_trained.append(count)\n",
    "                    average_loss = round(self.summation/float(i_batch+1),5)\n",
    "                    average_val_loss = round(self.val_summation/float(i_batch+1),5)\n",
    "                    training_losses.append(average_loss)\n",
    "                    validation_losses.append(average_val_loss)\n",
    "                count += 1\n",
    "                    \n",
    "            print(\"Epoch: \"+str(epoch))\n",
    "            print(\"Training Loss: \"+str(average_loss))\n",
    "            print(\"Validation Loss: \"+str(average_val_loss))\n",
    "            #self.model.save_weights(self.optimizer, epoch, save_path.format(count,average_loss))\n",
    "            #torch.save(self.model, save_path.format(count,average_loss))   \n",
    "            plt.plot(iters_trained,training_losses, label=\"training\")\n",
    "            plt.plot(iters_trained,validation_losses, label=\"validation\")\n",
    "            plt.legend(bbox_to_anchor=(1.05, 1), loc='upper left', borderaxespad=0.)\n",
    "            plt.show()\n",
    "        \n",
    "        \n",
    "    def validationBatch(self):\n",
    "        try:\n",
    "            val_i,batch = next(self.validation_training)\n",
    "        except StopIteration:\n",
    "            self.validation_training = enumerate(self.dataset.validloader)\n",
    "            val_i,batch = next(self.validation_training)\n",
    "        return val_i,batch\n",
    "        \n",
    "        \n",
    "    def score(self, sampled_batch):\n",
    "        self.model.eval()\n",
    "        images = sampled_batch['image'].to(self.device).float()\n",
    "        controls = sampled_batch['control'].to(self.device).long()\n",
    "        #forward pass\n",
    "\n",
    "        prediction = self.model(images)\n",
    "        \n",
    "        loss = self.criterion(prediction, controls)\n",
    "        torch.cuda.empty_cache()\n",
    "        return loss.data\n",
    "    \n",
    "    def label_distribution(self):\n",
    "        histogram = plt.hist(self.dataset.labels.dataframe[\"Angle\"])\n",
    "        count = histogram[0]\n",
    "        values = histogram[1]\n",
    "        return count,values"
   ]
  },
  {
   "cell_type": "code",
   "execution_count": null,
   "metadata": {},
   "outputs": [],
   "source": []
  },
  {
   "cell_type": "code",
   "execution_count": null,
   "metadata": {},
   "outputs": [],
   "source": []
  }
 ],
 "metadata": {
  "kernelspec": {
   "display_name": "Python 3",
   "language": "python",
   "name": "python3"
  },
  "language_info": {
   "codemirror_mode": {
    "name": "ipython",
    "version": 3
   },
   "file_extension": ".py",
   "mimetype": "text/x-python",
   "name": "python",
   "nbconvert_exporter": "python",
   "pygments_lexer": "ipython3",
   "version": "3.7.7"
  },
  "pycharm": {
   "stem_cell": {
    "cell_type": "raw",
    "source": [],
    "metadata": {
     "collapsed": false
    }
   }
  }
 },
 "nbformat": 4,
 "nbformat_minor": 2
}