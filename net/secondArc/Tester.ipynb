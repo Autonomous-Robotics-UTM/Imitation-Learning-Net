{
 "cells": [
  {
   "cell_type": "code",
   "execution_count": 1,
   "metadata": {
    "pycharm": {
     "is_executing": false
    }
   },
   "outputs": [
    {
     "name": "stdout",
     "text": [
      "importing Jupyter notebook from Trainer.ipynb\nimporting Jupyter notebook from CustomDataset.ipynb\n",
      "importing Jupyter notebook from Models.ipynb\n",
      "torch.Size([2, 64, 20, 43])\ntorch.Size([2, 55040])\n----------------------------------------------------------------\n        Layer (type)               Output Shape         Param #\n================================================================\n            Conv2d-1         [-1, 24, 108, 198]           1,824\n              ReLU-2         [-1, 24, 108, 198]               0\n            Conv2d-3           [-1, 36, 52, 97]          21,636\n              ReLU-4           [-1, 36, 52, 97]               0\n            Conv2d-5           [-1, 48, 24, 47]          43,248\n              ReLU-6           [-1, 48, 24, 47]               0\n            Conv2d-7           [-1, 64, 22, 45]          27,712\n              ReLU-8           [-1, 64, 22, 45]               0\n            Conv2d-9           [-1, 64, 20, 43]          36,928\n          Dropout-10           [-1, 64, 20, 43]               0\n           Linear-11                  [-1, 100]       5,504,100\n             ReLU-12                  [-1, 100]               0\n           Linear-13                   [-1, 50]           5,050\n             ReLU-14                   [-1, 50]               0\n           Linear-15                   [-1, 25]           1,275\n           Linear-16                   [-1, 14]             364\n             ReLU-17                   [-1, 14]               0\n================================================================\nTotal params: 5,642,137\nTrainable params: 5,642,137\nNon-trainable params: 0\n----------------------------------------------------------------\nInput size (MB): 1.01\nForward/backward pass size (MB): 13.24\nParams size (MB): 21.52\nEstimated Total Size (MB): 35.77\n----------------------------------------------------------------\nusing device cpu\n"
     ],
     "output_type": "stream"
    }
   ],
   "source": [
    "import os\n",
    "import sys\n",
    "import torch\n",
    "from skimage import io, transform\n",
    "import numpy as np\n",
    "import matplotlib.pyplot as plt\n",
    "from sklearn.model_selection import train_test_split\n",
    "import torch.nn as nn\n",
    "import torch.optim as optim\n",
    "import math\n",
    "import scipy.stats as stats\n",
    "import torch.optim as optim\n",
    "from torchsummary import summary\n",
    "from tqdm.notebook import tqdm_notebook\n",
    "\n",
    "\n",
    "import import_ipynb\n",
    "from Trainer import Trainer\n",
    "from CustomDataset import ControlsDataset\n",
    "from Models import RegConvNet, ClassConvNet, ClassConvNetNorm\n",
    "\n",
    "device = torch.device('cuda' if torch.cuda.is_available() else 'cpu')\n",
    "torch.cuda.empty_cache()\n",
    "print('using device', device)"
   ]
  },
  {
   "cell_type": "code",
   "execution_count": 50,
   "metadata": {},
   "outputs": [
    {
     "name": "stdout",
     "output_type": "stream",
     "text": [
      "Total training stacks 69\n",
      "Total validation stacks 18\n"
     ]
    },
    {
     "data": {
      "text/plain": [
       "[[-1.05, -0.9],\n",
       " [-0.9, -0.75],\n",
       " [-0.75, -0.6],\n",
       " [-0.6, -0.45],\n",
       " [-0.45, -0.3],\n",
       " [-0.3, -0.15],\n",
       " [-0.15, 0.0],\n",
       " [0.0, 0.15],\n",
       " [0.15, 0.3],\n",
       " [0.3, 0.45],\n",
       " [0.45, 0.6],\n",
       " [0.6, 0.75],\n",
       " [0.75, 0.9],\n",
       " [0.9, 1.05]]"
      ]
     },
     "execution_count": 50,
     "metadata": {},
     "output_type": "execute_result"
    }
   ],
   "source": [
    "dataset = ControlsDataset(img_folder='../data/cropped/', csv_path='../data/cropped/data.csv')\n",
    "dataset.make_dataloaders()\n",
    "\n",
    "dataset.labels.num_categories = 14\n",
    "dataset.labels.transform.categorize(1.05, -1.05, 14)"
   ]
  },
  {
   "cell_type": "code",
   "execution_count": 51,
   "metadata": {
    "scrolled": false
   },
   "outputs": [
    {
     "name": "stdout",
     "output_type": "stream",
     "text": [
      "torch.Size([2, 64, 20, 43])\n",
      "torch.Size([2, 55040])\n",
      "----------------------------------------------------------------\n",
      "        Layer (type)               Output Shape         Param #\n",
      "================================================================\n",
      "            Conv2d-1         [-1, 24, 108, 198]           1,824\n",
      "              ReLU-2         [-1, 24, 108, 198]               0\n",
      "            Conv2d-3           [-1, 36, 52, 97]          21,636\n",
      "              ReLU-4           [-1, 36, 52, 97]               0\n",
      "            Conv2d-5           [-1, 48, 24, 47]          43,248\n",
      "              ReLU-6           [-1, 48, 24, 47]               0\n",
      "            Conv2d-7           [-1, 64, 22, 45]          27,712\n",
      "              ReLU-8           [-1, 64, 22, 45]               0\n",
      "            Conv2d-9           [-1, 64, 20, 43]          36,928\n",
      "          Dropout-10           [-1, 64, 20, 43]               0\n",
      "           Linear-11                  [-1, 100]       5,504,100\n",
      "             ReLU-12                  [-1, 100]               0\n",
      "           Linear-13                   [-1, 50]           5,050\n",
      "             ReLU-14                   [-1, 50]               0\n",
      "           Linear-15                   [-1, 25]           1,275\n",
      "           Linear-16                   [-1, 14]             364\n",
      "             ReLU-17                   [-1, 14]               0\n",
      "================================================================\n",
      "Total params: 5,642,137\n",
      "Trainable params: 5,642,137\n",
      "Non-trainable params: 0\n",
      "----------------------------------------------------------------\n",
      "Input size (MB): 1.01\n",
      "Forward/backward pass size (MB): 13.24\n",
      "Params size (MB): 21.52\n",
      "Estimated Total Size (MB): 35.77\n",
      "----------------------------------------------------------------\n"
     ]
    }
   ],
   "source": [
    "# import torchvision.models as models\n",
    "# resnet50 = models.resnet50(pretrained=True)\n",
    "# for param in resnet50.parameters():\n",
    "#     param.requires_grad = False\n",
    "# resnet50.fc = nn.Sequential(nn.Linear(2048, 1))\n",
    "# resnet50 = resnet50.to(device)\n",
    "# # print(resnet50)\n",
    "model = ClassConvNet(3, 14).to(device)\n",
    "summary(model, (3, 220, 400))\n",
    "\n",
    "epochs = 30\n",
    "report_period = 10\n",
    "optimizer = optim.Adam(model.parameters())\n",
    "criterion = nn.CrossEntropyLoss()"
   ]
  },
  {
   "cell_type": "code",
   "execution_count": 52,
   "metadata": {
    "scrolled": false
   },
   "outputs": [
    {
     "data": {
      "application/vnd.jupyter.widget-view+json": {
       "model_id": "006cab72d77c48d09c5287c6ad312d42",
       "version_major": 2,
       "version_minor": 0
      },
      "text/plain": [
       "HBox(children=(FloatProgress(value=0.0, max=69.0), HTML(value='')))"
      ]
     },
     "metadata": {},
     "output_type": "display_data"
    },
    {
     "ename": "RuntimeError",
     "evalue": "CUDA out of memory. Tried to allocate 258.00 MiB (GPU 0; 7.93 GiB total capacity; 5.25 GiB already allocated; 49.06 MiB free; 107.27 MiB cached)",
     "output_type": "error",
     "traceback": [
      "\u001b[0;31m---------------------------------------------------------------------------\u001b[0m",
      "\u001b[0;31mRuntimeError\u001b[0m                              Traceback (most recent call last)",
      "\u001b[0;32m<ipython-input-52-72d3cb9fad47>\u001b[0m in \u001b[0;36m<module>\u001b[0;34m\u001b[0m\n\u001b[1;32m      1\u001b[0m \u001b[0mtrainer\u001b[0m \u001b[0;34m=\u001b[0m \u001b[0mTrainer\u001b[0m\u001b[0;34m(\u001b[0m\u001b[0mdevice\u001b[0m\u001b[0;34m,\u001b[0m \u001b[0mmodel\u001b[0m\u001b[0;34m,\u001b[0m \u001b[0mdataset\u001b[0m\u001b[0;34m,\u001b[0m \u001b[0moptimizer\u001b[0m\u001b[0;34m,\u001b[0m \u001b[0mcriterion\u001b[0m\u001b[0;34m)\u001b[0m\u001b[0;34m\u001b[0m\u001b[0;34m\u001b[0m\u001b[0m\n\u001b[0;32m----> 2\u001b[0;31m \u001b[0mtrainer\u001b[0m\u001b[0;34m.\u001b[0m\u001b[0mfit\u001b[0m\u001b[0;34m(\u001b[0m\u001b[0mepochs\u001b[0m\u001b[0;34m,\u001b[0m \u001b[0mreport_period\u001b[0m\u001b[0;34m)\u001b[0m\u001b[0;34m\u001b[0m\u001b[0;34m\u001b[0m\u001b[0m\n\u001b[0m",
      "\u001b[0;32m/localdata/csc1/Imitation-Learning-Net/net/secondArc/Trainer.ipynb\u001b[0m in \u001b[0;36mfit\u001b[0;34m(self, epochs, report_period)\u001b[0m\n",
      "\u001b[0;31mRuntimeError\u001b[0m: CUDA out of memory. Tried to allocate 258.00 MiB (GPU 0; 7.93 GiB total capacity; 5.25 GiB already allocated; 49.06 MiB free; 107.27 MiB cached)"
     ]
    }
   ],
   "source": [
    "trainer = Trainer(device, model, dataset, optimizer, criterion)\n",
    "trainer.fit(epochs, report_period)"
   ]
  },
  {
   "cell_type": "code",
   "execution_count": null,
   "metadata": {},
   "outputs": [],
   "source": []
  },
  {
   "cell_type": "code",
   "execution_count": null,
   "metadata": {
    "scrolled": true
   },
   "outputs": [],
   "source": [
    "# from tqdm.notebook import tqdm_notebook\n",
    "# resnet50.train()\n",
    "# iter_no = 0\n",
    "# report_period = 20\n",
    "# batch_size = 20\n",
    "\n",
    "# for epoch in range(epochs):\n",
    "#     percent = 0\n",
    "#     for i_batch, sampled_batch in tqdm_notebook(enumerate(dataset.dataloader),\n",
    "#                                                 total=len(dataset.dataloader),\n",
    "#                                                 desc= str(percent)):\n",
    "        \n",
    "#         images = sampled_batch['image'].to(device).float()\n",
    "#         controls = sampled_batch['control'].to(device).float()\n",
    "#         # multiply on controls by 100\n",
    "#         controls *= 100\n",
    "        \n",
    "#         # forward pass\n",
    "#         prediction = resnet50(images)\n",
    "#         loss = criterion(prediction, controls)\n",
    "#         loss_item = loss.item()\n",
    "        \n",
    "#         #backwards pass\n",
    "#         loss.backward()\n",
    "#         optimizer.step()\n",
    "#         optimizer.zero_grad()\n",
    "#         print(loss.item())\n",
    "\n",
    "#         iter_no += 1\n",
    "#         if iter_no % report_period == 0:\n",
    "#             print(\"saved to tensorboard\")\n",
    "        \n",
    "\n",
    "#     out = \"{0},{1}\\tLoss:{2}\\tAllocated:{3}GB\\tCached:{4}GB\\n\"\n",
    "#     print(out.format(str(epoch),\n",
    "#                     str(iter_no),\n",
    "#                     round(loss.item(),5),\n",
    "#                      'na', 'na'\n",
    "#                      #round(torch.cuda.memory_allocated(0)/1024**3,3),\n",
    "#                      #round(torch.cuda.memory_allocated(0)/1024**3,3)\n",
    "#                     ))\n"
   ]
  },
  {
   "cell_type": "code",
   "execution_count": null,
   "metadata": {},
   "outputs": [],
   "source": [
    "def save(epoch,model,path):\n",
    "        torch.save({\n",
    "            'epoch': epoch,\n",
    "            'model_state_dict': model.state_dict()},\n",
    "            path)"
   ]
  },
  {
   "cell_type": "code",
   "execution_count": null,
   "metadata": {},
   "outputs": [],
   "source": [
    "save(30,resnet50,\"resnet.pt\")"
   ]
  },
  {
   "cell_type": "code",
   "execution_count": null,
   "metadata": {},
   "outputs": [],
   "source": []
  }
 ],
 "metadata": {
  "kernelspec": {
   "display_name": "Python 3",
   "language": "python",
   "name": "python3"
  },
  "language_info": {
   "codemirror_mode": {
    "name": "ipython",
    "version": 3
   },
   "file_extension": ".py",
   "mimetype": "text/x-python",
   "name": "python",
   "nbconvert_exporter": "python",
   "pygments_lexer": "ipython3",
   "version": "3.7.3"
  }
 },
 "nbformat": 4,
 "nbformat_minor": 2
}