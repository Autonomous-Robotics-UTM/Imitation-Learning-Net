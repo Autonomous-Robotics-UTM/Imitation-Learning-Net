{
 "cells": [
  {
   "cell_type": "code",
   "execution_count": 1,
   "metadata": {},
   "outputs": [
    {
     "name": "stdout",
     "output_type": "stream",
     "text": [
      "importing Jupyter notebook from CustomDataset.ipynb\n",
      "importing Jupyter notebook from Model.ipynb\n",
      "using device cpu\n"
     ]
    }
   ],
   "source": [
    "import os\n",
    "import sys\n",
    "import torch\n",
    "from skimage import io, transform\n",
    "import numpy as np\n",
    "import matplotlib.pyplot as plt\n",
    "from sklearn.model_selection import train_test_split\n",
    "import torch.nn as nn\n",
    "import torch.optim as optim\n",
    "import math\n",
    "\n",
    "import import_ipynb\n",
    "from CustomDataset import ControlsDataset\n",
    "from Model import ConvNet\n",
    "\n",
    "device = torch.device('cuda' if torch.cuda.is_available() else 'cpu')\n",
    "device = 'cpu'\n",
    "print('using device', device)"
   ]
  },
  {
   "cell_type": "code",
   "execution_count": 2,
   "metadata": {},
   "outputs": [],
   "source": [
    "torch.cuda.empty_cache()"
   ]
  },
  {
   "cell_type": "code",
   "execution_count": 3,
   "metadata": {},
   "outputs": [
    {
     "name": "stdout",
     "output_type": "stream",
     "text": [
      "Data size 11019\n",
      "Total training stacks 35\n",
      "Total validation stacks 9\n"
     ]
    }
   ],
   "source": [
    "dataset = ControlsDataset()\n",
    "dataset.labels.set_type(\"categorical\")\n",
    "dataset.images.set_grayscale(True)\n",
    "print(\"Data size\", len(dataset.labels))\n",
    "dataset.split()"
   ]
  },
  {
   "cell_type": "code",
   "execution_count": 4,
   "metadata": {},
   "outputs": [
    {
     "name": "stdout",
     "output_type": "stream",
     "text": [
      "units after conv 512\n",
      "conv parameters:  164576\n",
      "fc parameters:  166933\n",
      "number of parameters:  331509\n"
     ]
    }
   ],
   "source": [
    "net = ConvNet(color_channels = 1, outputs = 21).to(device)\n",
    "print(\"number of parameters: \", sum(p.numel() for p in net.parameters()))"
   ]
  },
  {
   "cell_type": "code",
   "execution_count": 5,
   "metadata": {
    "scrolled": true
   },
   "outputs": [
    {
     "name": "stdout",
     "output_type": "stream",
     "text": [
      "0,1\tLoss:3.00239\tAllocated:0.0GB\tCached:0.0GB\n",
      "\n",
      "0,2\tLoss:2.96768\tAllocated:0.0GB\tCached:0.0GB\n",
      "\n",
      "0,3\tLoss:2.91693\tAllocated:0.0GB\tCached:0.0GB\n",
      "\n",
      "0,4\tLoss:2.90087\tAllocated:0.0GB\tCached:0.0GB\n",
      "\n",
      "0,5\tLoss:2.86745\tAllocated:0.0GB\tCached:0.0GB\n",
      "\n",
      "0,6\tLoss:2.80045\tAllocated:0.0GB\tCached:0.0GB\n",
      "\n",
      "0,7\tLoss:2.80886\tAllocated:0.0GB\tCached:0.0GB\n",
      "\n",
      "0,8\tLoss:2.74823\tAllocated:0.0GB\tCached:0.0GB\n",
      "\n",
      "0,9\tLoss:2.72664\tAllocated:0.0GB\tCached:0.0GB\n",
      "\n",
      "0,10\tLoss:2.65447\tAllocated:0.0GB\tCached:0.0GB\n",
      "\n",
      "0,11\tLoss:2.61991\tAllocated:0.0GB\tCached:0.0GB\n",
      "\n",
      "0,12\tLoss:2.62676\tAllocated:0.0GB\tCached:0.0GB\n",
      "\n",
      "0,13\tLoss:2.56303\tAllocated:0.0GB\tCached:0.0GB\n",
      "\n",
      "0,14\tLoss:2.56857\tAllocated:0.0GB\tCached:0.0GB\n",
      "\n",
      "0,15\tLoss:2.48403\tAllocated:0.0GB\tCached:0.0GB\n",
      "\n",
      "0,16\tLoss:2.41492\tAllocated:0.0GB\tCached:0.0GB\n",
      "\n",
      "0,17\tLoss:2.45277\tAllocated:0.0GB\tCached:0.0GB\n",
      "\n",
      "0,18\tLoss:2.33658\tAllocated:0.0GB\tCached:0.0GB\n",
      "\n",
      "0,19\tLoss:2.34698\tAllocated:0.0GB\tCached:0.0GB\n",
      "\n",
      "0,20\tLoss:2.29081\tAllocated:0.0GB\tCached:0.0GB\n",
      "\n",
      "0,21\tLoss:2.26478\tAllocated:0.0GB\tCached:0.0GB\n",
      "\n",
      "0,22\tLoss:2.22486\tAllocated:0.0GB\tCached:0.0GB\n",
      "\n",
      "0,23\tLoss:2.07229\tAllocated:0.0GB\tCached:0.0GB\n",
      "\n",
      "0,24\tLoss:2.18653\tAllocated:0.0GB\tCached:0.0GB\n",
      "\n",
      "0,25\tLoss:2.02868\tAllocated:0.0GB\tCached:0.0GB\n",
      "\n",
      "0,26\tLoss:2.03527\tAllocated:0.0GB\tCached:0.0GB\n",
      "\n",
      "0,27\tLoss:2.01263\tAllocated:0.0GB\tCached:0.0GB\n",
      "\n",
      "0,28\tLoss:2.06581\tAllocated:0.0GB\tCached:0.0GB\n",
      "\n",
      "0,29\tLoss:1.92672\tAllocated:0.0GB\tCached:0.0GB\n",
      "\n",
      "0,30\tLoss:1.95369\tAllocated:0.0GB\tCached:0.0GB\n",
      "\n",
      "0,31\tLoss:2.03249\tAllocated:0.0GB\tCached:0.0GB\n",
      "\n",
      "0,32\tLoss:1.97718\tAllocated:0.0GB\tCached:0.0GB\n",
      "\n",
      "0,33\tLoss:1.91949\tAllocated:0.0GB\tCached:0.0GB\n",
      "\n",
      "0,34\tLoss:1.66732\tAllocated:0.0GB\tCached:0.0GB\n",
      "\n",
      "0,35\tLoss:1.71409\tAllocated:0.0GB\tCached:0.0GB\n",
      "\n",
      "0,36\tLoss:1.64857\tAllocated:0.0GB\tCached:0.0GB\n",
      "\n",
      "0,37\tLoss:1.67644\tAllocated:0.0GB\tCached:0.0GB\n",
      "\n",
      "0,38\tLoss:1.69157\tAllocated:0.0GB\tCached:0.0GB\n",
      "\n",
      "0,39\tLoss:1.64319\tAllocated:0.0GB\tCached:0.0GB\n",
      "\n",
      "0,40\tLoss:1.79061\tAllocated:0.0GB\tCached:0.0GB\n",
      "\n",
      "0,41\tLoss:1.64081\tAllocated:0.0GB\tCached:0.0GB\n",
      "\n",
      "0,42\tLoss:1.54667\tAllocated:0.0GB\tCached:0.0GB\n",
      "\n",
      "0,43\tLoss:1.72067\tAllocated:0.0GB\tCached:0.0GB\n",
      "\n",
      "0,44\tLoss:0.72686\tAllocated:0.0GB\tCached:0.0GB\n",
      "\n"
     ]
    }
   ],
   "source": [
    "epochs = 1\n",
    "optimizer = optim.Adam(net.parameters(), lr=0.0001)\n",
    "criterion = nn.CrossEntropyLoss() # Changed from Mean-Squared to Cross-Entropy\n",
    "net.report_period = 1\n",
    "net.fit(device,epochs,optimizer,criterion)"
   ]
  },
  {
   "cell_type": "code",
   "execution_count": 8,
   "metadata": {},
   "outputs": [
    {
     "name": "stdout",
     "output_type": "stream",
     "text": [
      "67.4% classified correctly\n"
     ]
    }
   ],
   "source": [
    "# End of training Validation Test\n",
    "net.load(\"snapshots/0.727_model.pt\")\n",
    "total, correct = net.score(device,dataset, \"categorical\")\n",
    "print(\"{:.1f}% classified correctly\".format(100*correct/total))"
   ]
  },
  {
   "cell_type": "code",
   "execution_count": 9,
   "metadata": {},
   "outputs": [
    {
     "name": "stdout",
     "output_type": "stream",
     "text": [
      "56.2% classified correctly\n"
     ]
    }
   ],
   "source": [
    "# Beginning of training Validation Test\n",
    "net.load(\"snapshots/3.002_model.pt\")\n",
    "total, correct = net.score(device,dataset, \"categorical\")\n",
    "print(\"{:.1f}% classified correctly\".format(100*correct/total))"
   ]
  },
  {
   "cell_type": "code",
   "execution_count": 10,
   "metadata": {},
   "outputs": [],
   "source": [
    "torch.cuda.empty_cache()"
   ]
  },
  {
   "cell_type": "code",
   "execution_count": 12,
   "metadata": {},
   "outputs": [
    {
     "name": "stdout",
     "output_type": "stream",
     "text": [
      "GeForce GTX 1050\n",
      "Memory Usage:\n",
      "Allocated: 0.0 GB\n",
      "Cached:    0\n"
     ]
    }
   ],
   "source": [
    "#Additional Info when using cuda\n",
    "device = torch.device('cuda' if torch.cuda.is_available() else 'cpu')\n",
    "if device.type == 'cuda':\n",
    "    print(torch.cuda.get_device_name(0))\n",
    "    print('Memory Usage:')\n",
    "    print('Allocated:', round(torch.cuda.memory_allocated(0)/1024**3,1), 'GB')\n",
    "    print('Cached:   ', round(torch.cuda.memory_cached(0)/1024))"
   ]
  },
  {
   "cell_type": "code",
   "execution_count": null,
   "metadata": {},
   "outputs": [],
   "source": []
  }
 ],
 "metadata": {
  "kernelspec": {
   "display_name": "Python 3",
   "language": "python",
   "name": "python3"
  },
  "language_info": {
   "codemirror_mode": {
    "name": "ipython",
    "version": 3
   },
   "file_extension": ".py",
   "mimetype": "text/x-python",
   "name": "python",
   "nbconvert_exporter": "python",
   "pygments_lexer": "ipython3",
   "version": "3.7.6"
  }
 },
 "nbformat": 4,
 "nbformat_minor": 2
}
