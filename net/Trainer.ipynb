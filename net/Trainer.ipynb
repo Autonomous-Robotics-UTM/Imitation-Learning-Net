{
 "cells": [
  {
   "cell_type": "code",
   "execution_count": 14,
   "metadata": {},
   "outputs": [
    {
     "name": "stdout",
     "output_type": "stream",
     "text": [
      "using device cpu\n"
     ]
    }
   ],
   "source": [
    "import os\n",
    "import sys\n",
    "import torch\n",
    "from skimage import io, transform\n",
    "import numpy as np\n",
    "import matplotlib.pyplot as plt\n",
    "from sklearn.model_selection import train_test_split\n",
    "import torch.nn as nn\n",
    "import torch.optim as optim\n",
    "import math\n",
    "\n",
    "import import_ipynb\n",
    "from CustomDataset import ControlsDataset\n",
    "from Model import ConvNet\n",
    "\n",
    "device = torch.device('cuda' if torch.cuda.is_available() else 'cpu')\n",
    "device = 'cpu'\n",
    "print('using device', device)"
   ]
  },
  {
   "cell_type": "code",
   "execution_count": 15,
   "metadata": {},
   "outputs": [],
   "source": [
    "torch.cuda.empty_cache()"
   ]
  },
  {
   "cell_type": "code",
   "execution_count": 16,
   "metadata": {},
   "outputs": [
    {
     "name": "stdout",
     "output_type": "stream",
     "text": [
      "Data size 11019\n",
      "Total training stacks 35\n",
      "Total validation stacks 9\n"
     ]
    }
   ],
   "source": [
    "dataset = ControlsDataset()\n",
    "dataset.labels.set_type(\"angular\")\n",
    "dataset.images.set_grayscale(True)\n",
    "print(\"Data size\", len(dataset.labels))\n",
    "dataset.split()"
   ]
  },
  {
   "cell_type": "code",
   "execution_count": 17,
   "metadata": {},
   "outputs": [
    {
     "name": "stdout",
     "output_type": "stream",
     "text": [
      "units after conv 512\n",
      "conv parameters:  164576\n",
      "fc parameters:  164353\n",
      "number of parameters:  328929\n"
     ]
    }
   ],
   "source": [
    "net = ConvNet(color_channels = 1, outputs = 1, dataset = dataset).to(device)\n",
    "print(\"number of parameters: \", sum(p.numel() for p in net.parameters()))"
   ]
  },
  {
   "cell_type": "code",
   "execution_count": 18,
   "metadata": {
    "scrolled": true
   },
   "outputs": [
    {
     "name": "stdout",
     "output_type": "stream",
     "text": [
      "0,1\tLoss:0.04384\tAllocated:0.0GB\tCached:0.0GB\n",
      "\n",
      "0,2\tLoss:0.06696\tAllocated:0.0GB\tCached:0.0GB\n",
      "\n",
      "0,3\tLoss:0.05625\tAllocated:0.0GB\tCached:0.0GB\n",
      "\n",
      "0,4\tLoss:0.05477\tAllocated:0.0GB\tCached:0.0GB\n",
      "\n",
      "0,5\tLoss:0.06863\tAllocated:0.0GB\tCached:0.0GB\n",
      "\n",
      "0,6\tLoss:0.07493\tAllocated:0.0GB\tCached:0.0GB\n",
      "\n",
      "0,7\tLoss:0.04331\tAllocated:0.0GB\tCached:0.0GB\n",
      "\n",
      "0,8\tLoss:0.06049\tAllocated:0.0GB\tCached:0.0GB\n",
      "\n",
      "0,9\tLoss:0.06375\tAllocated:0.0GB\tCached:0.0GB\n",
      "\n",
      "0,10\tLoss:0.03611\tAllocated:0.0GB\tCached:0.0GB\n",
      "\n",
      "0,11\tLoss:0.053\tAllocated:0.0GB\tCached:0.0GB\n",
      "\n",
      "0,12\tLoss:0.0657\tAllocated:0.0GB\tCached:0.0GB\n",
      "\n",
      "0,13\tLoss:0.05934\tAllocated:0.0GB\tCached:0.0GB\n",
      "\n",
      "0,14\tLoss:0.05839\tAllocated:0.0GB\tCached:0.0GB\n",
      "\n",
      "0,15\tLoss:0.05376\tAllocated:0.0GB\tCached:0.0GB\n",
      "\n",
      "0,16\tLoss:0.0623\tAllocated:0.0GB\tCached:0.0GB\n",
      "\n",
      "0,17\tLoss:0.07217\tAllocated:0.0GB\tCached:0.0GB\n",
      "\n",
      "0,18\tLoss:0.05269\tAllocated:0.0GB\tCached:0.0GB\n",
      "\n",
      "0,19\tLoss:0.0574\tAllocated:0.0GB\tCached:0.0GB\n",
      "\n",
      "0,20\tLoss:0.04646\tAllocated:0.0GB\tCached:0.0GB\n",
      "\n",
      "0,21\tLoss:0.0709\tAllocated:0.0GB\tCached:0.0GB\n",
      "\n",
      "0,22\tLoss:0.08673\tAllocated:0.0GB\tCached:0.0GB\n",
      "\n",
      "0,23\tLoss:0.06478\tAllocated:0.0GB\tCached:0.0GB\n",
      "\n",
      "0,24\tLoss:0.06782\tAllocated:0.0GB\tCached:0.0GB\n",
      "\n",
      "0,25\tLoss:0.05948\tAllocated:0.0GB\tCached:0.0GB\n",
      "\n",
      "0,26\tLoss:0.06185\tAllocated:0.0GB\tCached:0.0GB\n",
      "\n",
      "0,27\tLoss:0.06453\tAllocated:0.0GB\tCached:0.0GB\n",
      "\n",
      "0,28\tLoss:0.04354\tAllocated:0.0GB\tCached:0.0GB\n",
      "\n",
      "0,29\tLoss:0.05066\tAllocated:0.0GB\tCached:0.0GB\n",
      "\n",
      "0,30\tLoss:0.03555\tAllocated:0.0GB\tCached:0.0GB\n",
      "\n",
      "0,31\tLoss:0.03969\tAllocated:0.0GB\tCached:0.0GB\n",
      "\n",
      "0,32\tLoss:0.06037\tAllocated:0.0GB\tCached:0.0GB\n",
      "\n",
      "0,33\tLoss:0.05693\tAllocated:0.0GB\tCached:0.0GB\n",
      "\n",
      "0,34\tLoss:0.04482\tAllocated:0.0GB\tCached:0.0GB\n",
      "\n",
      "0,35\tLoss:0.05521\tAllocated:0.0GB\tCached:0.0GB\n",
      "\n"
     ]
    }
   ],
   "source": [
    "epochs = 1\n",
    "optimizer = optim.Adam(net.parameters(), lr=0.0001)\n",
    "#criterion = nn.CrossEntropyLoss() # Changed from Mean-Squared to Cross-Entropy\n",
    "criterion = nn.MSELoss()\n",
    "net.report_period = 1\n",
    "net.fit(device,epochs,optimizer,criterion)"
   ]
  },
  {
   "cell_type": "code",
   "execution_count": null,
   "metadata": {},
   "outputs": [],
   "source": [
    "# End of training Validation Test\n",
    "net.load(\"snapshots/0.727_model.pt\")\n",
    "total, correct = net.score(device,dataset, \"categorical\")\n",
    "print(\"{:.1f}% classified correctly\".format(100*correct/total))"
   ]
  },
  {
   "cell_type": "code",
   "execution_count": null,
   "metadata": {},
   "outputs": [],
   "source": [
    "# Beginning of training Validation Test\n",
    "net.load(\"snapshots/3.002_model.pt\")\n",
    "total, correct = net.score(device,dataset, \"categorical\")\n",
    "print(\"{:.1f}% classified correctly\".format(100*correct/total))"
   ]
  },
  {
   "cell_type": "code",
   "execution_count": null,
   "metadata": {},
   "outputs": [],
   "source": [
    "torch.cuda.empty_cache()"
   ]
  },
  {
   "cell_type": "code",
   "execution_count": null,
   "metadata": {},
   "outputs": [],
   "source": [
    "#Additional Info when using cuda\n",
    "device = torch.device('cuda' if torch.cuda.is_available() else 'cpu')\n",
    "if device.type == 'cuda':\n",
    "    print(torch.cuda.get_device_name(0))\n",
    "    print('Memory Usage:')\n",
    "    print('Allocated:', round(torch.cuda.memory_allocated(0)/1024**3,1), 'GB')\n",
    "    print('Cached:   ', round(torch.cuda.memory_cached(0)/1024))"
   ]
  },
  {
   "cell_type": "code",
   "execution_count": null,
   "metadata": {},
   "outputs": [],
   "source": []
  }
 ],
 "metadata": {
  "kernelspec": {
   "display_name": "Python 3",
   "language": "python",
   "name": "python3"
  },
  "language_info": {
   "codemirror_mode": {
    "name": "ipython",
    "version": 3
   },
   "file_extension": ".py",
   "mimetype": "text/x-python",
   "name": "python",
   "nbconvert_exporter": "python",
   "pygments_lexer": "ipython3",
   "version": "3.7.6"
  }
 },
 "nbformat": 4,
 "nbformat_minor": 2
}
