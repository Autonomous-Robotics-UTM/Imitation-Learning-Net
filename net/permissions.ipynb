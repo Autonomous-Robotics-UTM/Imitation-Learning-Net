{
 "cells": [
  {
   "cell_type": "code",
   "execution_count": 2,
   "metadata": {},
   "outputs": [
    {
     "name": "stdout",
     "output_type": "stream",
     "text": [
      "Set permission 770 for all children of /localdata/csc1/Imitation-Learning-Net/net\n"
     ]
    }
   ],
   "source": [
    "import os, sys, stat\n",
    "def grant_permissions(filename):\n",
    "    os.chmod(filename, stat.S_IRWXU | stat.S_IRWXG)\n",
    "    \n",
    "def grant_all(path):\n",
    "    for root, dirs, files in os.walk(path):\n",
    "        for d in dirs:\n",
    "            try:\n",
    "                grant_permissions(os.path.join(root, d))\n",
    "            except Exception:\n",
    "                pass\n",
    "        for f in files:\n",
    "            try:\n",
    "                grant_permissions(os.path.join(root, f))\n",
    "            except Exception:\n",
    "                pass\n",
    "path = os.path.abspath(\"\")    \n",
    "print(\"Set permission 770 for all children of \"+path) \n",
    "grant_all(path)\n"
   ]
  },
  {
   "cell_type": "code",
   "execution_count": null,
   "metadata": {},
   "outputs": [],
   "source": []
  }
 ],
 "metadata": {
  "kernelspec": {
   "display_name": "Python 3",
   "language": "python",
   "name": "python3"
  },
  "language_info": {
   "codemirror_mode": {
    "name": "ipython",
    "version": 3
   },
   "file_extension": ".py",
   "mimetype": "text/x-python",
   "name": "python",
   "nbconvert_exporter": "python",
   "pygments_lexer": "ipython3",
   "version": "3.7.3"
  }
 },
 "nbformat": 4,
 "nbformat_minor": 2
}
