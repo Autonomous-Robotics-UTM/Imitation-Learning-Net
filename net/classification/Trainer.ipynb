{
 "cells": [
  {
   "cell_type": "code",
   "execution_count": 1,
   "metadata": {},
   "outputs": [
    {
     "name": "stdout",
     "output_type": "stream",
     "text": [
      "importing Jupyter notebook from CustomDataset.ipynb\n",
      "importing Jupyter notebook from Model.ipynb\n",
      "using device cuda\n"
     ]
    }
   ],
   "source": [
    "import os\n",
    "import sys\n",
    "import torch\n",
    "from skimage import io, transform\n",
    "import numpy as np\n",
    "import matplotlib.pyplot as plt\n",
    "from sklearn.model_selection import train_test_split\n",
    "import torch.nn as nn\n",
    "import torch.optim as optim\n",
    "import math\n",
    "import scipy.stats as stats\n",
    "\n",
    "\n",
    "import import_ipynb\n",
    "from CustomDataset import ControlsDataset\n",
    "from Model import ConvNet\n",
    "\n",
    "device = torch.device('cuda' if torch.cuda.is_available() else 'cpu')\n",
    "#device = 'cpu'\n",
    "print('using device', device)"
   ]
  },
  {
   "cell_type": "code",
   "execution_count": 2,
   "metadata": {},
   "outputs": [],
   "source": [
    "torch.cuda.empty_cache()"
   ]
  },
  {
   "cell_type": "code",
   "execution_count": 3,
   "metadata": {},
   "outputs": [
    {
     "name": "stdout",
     "output_type": "stream",
     "text": [
      "Data size 11019\n",
      "Total training stacks 69\n",
      "Total validation stacks 18\n"
     ]
    }
   ],
   "source": [
    "dataset = ControlsDataset()\n",
    "dataset.labels.num_categories = 21\n",
    "dataset.labels.transform.categorize(1.05, -1.05, 21)\n",
    "dataset.images.set_grayscale(False)\n",
    "print(\"Data size\", len(dataset.labels))\n",
    "dataset.make_dataloaders()"
   ]
  },
  {
   "cell_type": "code",
   "execution_count": 4,
   "metadata": {},
   "outputs": [
    {
     "name": "stdout",
     "output_type": "stream",
     "text": [
      "units after conv 512\n",
      "conv parameters:  168224\n",
      "fc parameters:  166933\n",
      "number of parameters:  335157\n"
     ]
    }
   ],
   "source": [
    "net = ConvNet(color_channels = 3, outputs = 21, dataset = dataset).to(device)\n",
    "#net = ConvNet(color_channels = 1, outputs = 21, dataset = dataset).to(device)\n",
    "print(\"number of parameters: \", sum(p.numel() for p in net.parameters()))"
   ]
  },
  {
   "cell_type": "code",
   "execution_count": 5,
   "metadata": {},
   "outputs": [
    {
     "name": "stdout",
     "output_type": "stream",
     "text": [
      "          ID     Angle  Category\n",
      "0          0 -0.000000        10\n",
      "1          1 -0.000000        10\n",
      "2          2 -0.000000        10\n",
      "3          3 -0.000000        10\n",
      "4          4 -0.000000        10\n",
      "5          5 -0.000000        10\n",
      "6          6 -0.000000        10\n",
      "7          7 -0.000000        10\n",
      "8          8 -0.000000        10\n",
      "9          9 -0.000000        10\n",
      "10        10 -0.000000        10\n",
      "11        11 -0.000000        10\n",
      "12        12 -0.000000        10\n",
      "13        13 -0.000000        10\n",
      "14        14 -0.000000        10\n",
      "15        15 -0.000000        10\n",
      "16        16 -0.000000        10\n",
      "17        17  0.029881        10\n",
      "18        18  0.085770        11\n",
      "19        19  0.109723        11\n",
      "20        20  0.133675        11\n",
      "21        21  0.149643        11\n",
      "22        22  0.149643        11\n",
      "23        23  0.053834        11\n",
      "24        24 -0.000000        10\n",
      "25        25 -0.000000        10\n",
      "26        26 -0.000000        10\n",
      "27        27 -0.000000        10\n",
      "28        28 -0.000000        10\n",
      "29        29 -0.000000        10\n",
      "...      ...       ...       ...\n",
      "10989  10989 -0.000000        10\n",
      "10990  10990 -0.000000        10\n",
      "10991  10991 -0.000000        10\n",
      "10992  10992 -0.000000        10\n",
      "10993  10993 -0.000000        10\n",
      "10994  10994 -0.000000        10\n",
      "10995  10995 -0.000000        10\n",
      "10996  10996 -0.000000        10\n",
      "10997  10997 -0.000000        10\n",
      "10998  10998 -0.000000        10\n",
      "10999  10999 -0.000000        10\n",
      "11000  11000 -0.000000        10\n",
      "11001  11001 -0.000000        10\n",
      "11002  11002 -0.000000        10\n",
      "11003  11003 -0.000000        10\n",
      "11004  11004 -0.000000        10\n",
      "11005  11005 -0.000000        10\n",
      "11006  11006 -0.000000        10\n",
      "11007  11007 -0.000000        10\n",
      "11008  11008 -0.000000        10\n",
      "11009  11009 -0.000000        10\n",
      "11010  11010 -0.000000        10\n",
      "11011  11011 -0.000000        10\n",
      "11012  11012 -0.000000        10\n",
      "11013  11013 -0.000000        10\n",
      "11014  11014 -0.000000        10\n",
      "11015  11015 -0.000000        10\n",
      "11016  11016 -0.000000        10\n",
      "11017  11017 -0.000000        10\n",
      "11018  11018 -0.000000        10\n",
      "\n",
      "[11019 rows x 3 columns]\n",
      "[  80   50   76   86  146  219  418  378  874 1142 6655  236  154   62\n",
      "   95   98   73   27   47    4   99]\n",
      "21\n"
     ]
    },
    {
     "data": {
      "image/png": "[encoded data removed]",
      "text/plain": [
       "<Figure size 432x288 with 1 Axes>"
      ]
     },
     "metadata": {
      "needs_background": "light"
     },
     "output_type": "display_data"
    }
   ],
   "source": [
    "print(dataset.labels.dataframe)\n",
    "counts = dataset.labels.dataframe.groupby('Category')['ID'].count()\n",
    "array = np.array(counts)\n",
    "print(array)\n",
    "print(len(array))\n",
    "dataset.labels.histogram()\n",
    "# weights = max(counts)/array\n",
    "# weights = torch.Tensor(weights).to(device)\n",
    "# print(weights)\n",
    "ratio = max(counts)/array\n",
    "\n"
   ]
  },
  {
   "cell_type": "code",
   "execution_count": 10,
   "metadata": {},
   "outputs": [
    {
     "data": {
      "image/png": "[encoded data removed]",
      "text/plain": [
       "<Figure size 432x288 with 1 Axes>"
      ]
     },
     "metadata": {
      "needs_background": "light"
     },
     "output_type": "display_data"
    },
    {
     "name": "stdout",
     "output_type": "stream",
     "text": [
      "tensor([2.7547e+02, 4.4076e+02, 2.8995e+02, 2.5611e+02, 1.5042e+02, 9.9025e+01,\n",
      "        4.9816e+01, 4.9868e+01, 1.7950e+01, 1.0891e+01, 1.6557e+00, 5.2702e+01,\n",
      "        1.0187e+02, 3.0404e+02, 2.1919e+02, 2.2129e+02, 3.0083e+02, 8.1575e+02,\n",
      "        4.6886e+02, 5.5095e+03, 2.2261e+02], device='cuda:0')\n"
     ]
    }
   ],
   "source": [
    "mu, variance = 10.5, 4\n",
    "sigma = math.sqrt(variance) \n",
    "x = np.linspace(0, 21, 21)\n",
    "pdf = stats.norm.pdf(x, mu, sigma)\n",
    "inv = ((np.ones(len(x)) * (max(pdf))) - pdf)/max(pdf) + 1\n",
    "\n",
    "plt.xlim([0,21])\n",
    "plt.ylim([0,1.2])\n",
    "plt.plot(x, inv)\n",
    "plt.title(\"Weights Representation\")\n",
    "plt.xlabel(\"Categories\")\n",
    "plt.ylabel(\"weights\")\n",
    "plt.show()\n",
    "\n",
    "weights = ratio * inv * 10\n",
    "weights = torch.Tensor(weights).to(device)\n",
    "print(weights)"
   ]
  },
  {
   "cell_type": "code",
   "execution_count": 11,
   "metadata": {},
   "outputs": [
    {
     "data": {
      "text/plain": [
       "array([0.  , 0.  , 0.25, 0.5 , 0.75, 1.  ])"
      ]
     },
     "execution_count": 11,
     "metadata": {},
     "output_type": "execute_result"
    }
   ],
   "source": [
    "from scipy.stats import uniform\n",
    "\n",
    "uniform.cdf([0, 1, 2, 3, 4, 5], loc=1, scale=4)"
   ]
  },
  {
   "cell_type": "code",
   "execution_count": 12,
   "metadata": {
    "scrolled": true
   },
   "outputs": [
    {
     "name": "stdout",
     "output_type": "stream",
     "text": [
      "<class 'torch.Tensor'>\n",
      "tensor([3, 3, 3, 3, 3, 3, 3, 3, 3, 3, 3, 3, 3, 3, 3, 3, 3, 3, 3, 3, 3, 3, 3, 3,\n",
      "        3, 3, 3, 3, 3, 3, 3, 3, 3, 3, 3, 3, 3, 3, 3, 3, 3, 3, 3, 3, 3, 3, 3, 3,\n",
      "        3, 3, 3, 3, 3, 3, 3, 3, 3, 3, 3, 3, 3, 3, 3, 3, 3, 3, 3, 3, 3, 3, 3, 3,\n",
      "        3, 3, 3, 3, 3, 3, 3, 3, 3, 3, 3, 3, 3, 3, 3, 3, 3, 3, 3, 3, 3, 3, 3, 3,\n",
      "        3, 3, 3, 3, 3, 3, 3, 3, 3, 3, 3, 3, 3, 3, 3, 3, 3, 3, 3, 3, 3, 3, 3, 3,\n",
      "        3, 3, 3, 3, 3, 3, 3, 3], device='cuda:0')\n",
      "tensor([10, 12, 10, 10, 10,  8, 10, 10, 10, 10, 10, 17, 11,  8, 10, 10, 10, 11,\n",
      "        10,  9, 11, 10, 10, 10,  9, 10, 10, 10,  9, 10, 10,  8, 10, 10, 20, 13,\n",
      "        12,  8, 10,  9, 10,  9,  9, 10, 10, 10,  8, 10, 10,  9,  9, 10, 10,  8,\n",
      "        18,  9,  3,  7, 10,  9, 10, 10,  8, 10, 10, 10, 11,  9, 10, 10, 10, 10,\n",
      "        11, 10,  3, 10, 12,  9, 20, 10, 10, 10, 10, 13, 10, 10, 10, 10, 10, 10,\n",
      "        10, 10,  9, 10, 10,  9, 10, 10, 11,  6,  8,  9, 10, 10,  5,  4,  9, 10,\n",
      "        10, 10, 10, 10, 10, 10, 10,  4, 10, 10, 10,  8, 10, 10,  8, 10,  9,  8,\n",
      "         6, 10], device='cuda:0')\n",
      "0,1\tLoss:3.03156\tAllocated:0.886GB\tCached:0.886GB\n",
      "\n",
      "Accuracy: 1.5625%\n",
      "tensor([3, 3, 3, 3, 3, 3, 3, 3, 3, 3, 3, 3, 3, 3, 3, 3, 3, 3, 3, 3, 3, 3, 3, 3,\n",
      "        3, 3, 3, 3, 3, 3, 3, 3, 3, 3, 3, 3, 3, 3, 3, 3, 3, 3, 3, 3, 3, 3, 3, 3,\n",
      "        3, 3, 3, 3, 3, 3, 3, 3, 3, 3, 3, 3, 3, 3, 3, 3, 3, 3, 3, 3, 3, 3, 3, 3,\n",
      "        3, 3, 3, 3, 3, 3, 3, 3, 3, 3, 3, 3, 3, 3, 3, 3, 3, 3, 3, 3, 3, 3, 3, 3,\n",
      "        3, 3, 3, 3, 3, 3, 3, 3, 3, 3, 3, 3, 3, 3, 3, 3, 3, 3, 3, 3, 3, 3, 3, 3,\n",
      "        3, 3, 3, 3, 3, 3, 3, 3], device='cuda:0')\n",
      "tensor([ 7,  6, 10, 10,  9,  7,  3, 11, 10, 15, 10, 10, 10, 10, 10, 10,  8,  5,\n",
      "        20, 10, 10, 10, 10, 10, 12,  9,  6,  6, 10, 10, 10, 10,  8, 10,  9, 10,\n",
      "        11,  9, 10,  4, 11,  7,  7, 10, 15, 10, 10, 10, 10, 10, 10,  9,  5, 10,\n",
      "        10, 20,  7, 10,  8,  7, 10, 14, 10, 10,  5,  8,  8,  8, 10,  9, 10, 10,\n",
      "         8,  9,  5, 10,  4,  7, 10, 10,  9, 10, 10, 13, 10, 10, 10, 10,  9,  6,\n",
      "        10,  5,  9, 10,  2, 10, 10,  8, 10, 10,  5, 10, 10,  9, 10, 10, 10, 10,\n",
      "        10, 10, 10, 10,  6, 10, 10, 10, 10,  5, 15, 10, 10, 10, 10,  9, 10,  7,\n",
      "        10,  4], device='cuda:0')\n",
      "0,2\tLoss:3.06133\tAllocated:0.886GB\tCached:0.886GB\n",
      "\n",
      "Accuracy: 1.5625%\n",
      "tensor([3, 3, 3, 3, 3, 3, 3, 3, 3, 3, 3, 3, 3, 3, 3, 3, 3, 3, 3, 3, 3, 3, 3, 3,\n",
      "        3, 3, 3, 3, 3, 3, 3, 3, 3, 3, 3, 3, 3, 3, 3, 3, 3, 3, 3, 3, 3, 3, 3, 3,\n",
      "        3, 3, 3, 3, 3, 3, 3, 3, 3, 3, 3, 3, 3, 3, 3, 3, 3, 3, 3, 3, 3, 3, 3, 3,\n",
      "        3, 3, 3, 3, 3, 3, 3, 3, 3, 3, 3, 3, 3, 3, 3, 3, 3, 3, 3, 3, 3, 3, 3, 3,\n",
      "        3, 3, 3, 3, 3, 3, 3, 3, 3, 3, 3, 3, 3, 3, 3, 3, 3, 3, 3, 3, 3, 3, 3, 3,\n",
      "        3, 3, 3, 3, 3, 3, 3, 3], device='cuda:0')\n",
      "tensor([ 8, 10, 10, 10,  9, 10, 10,  7, 10, 10, 14,  9, 10, 10, 10, 18, 10, 10,\n",
      "        10,  9,  9,  9, 10,  8,  8, 10, 10,  6,  9, 10, 10, 10,  9, 10,  8,  9,\n",
      "        10, 10,  7, 10, 10, 10,  8, 10, 10, 10, 15, 10, 10, 10,  7, 10, 14, 10,\n",
      "        10, 10, 10, 10, 10, 10, 10, 10,  8, 10, 10, 10, 20, 10,  9, 10, 10, 10,\n",
      "         8, 10, 10, 10, 10, 10, 10,  6,  8,  7, 14, 15, 10, 12, 10,  9,  8,  5,\n",
      "         6, 10,  7,  8, 20, 10,  8,  8, 10,  3, 10, 10, 10, 10, 10, 10,  8, 10,\n",
      "        10, 15, 10,  7,  9, 10, 10,  8, 11, 10, 10, 16, 12, 10, 10, 10, 10,  8,\n",
      "         4, 10], device='cuda:0')\n",
      "0,3\tLoss:3.06116\tAllocated:0.886GB\tCached:0.886GB\n",
      "\n",
      "Accuracy: 0.0%\n",
      "tensor([3, 3, 3, 3, 3, 3, 3, 3, 3, 3, 3, 3, 3, 3, 3, 3, 3, 3, 3, 3, 3, 3, 3, 3,\n",
      "        3, 3, 3, 3, 3, 3, 3, 3, 3, 3, 3, 3, 3, 3, 3, 3, 3, 3, 3, 3, 3, 3, 3, 3,\n",
      "        3, 3, 3, 3, 3, 3, 3, 3, 3, 3, 3, 3, 3, 3, 3, 3, 3, 3, 3, 3, 3, 3, 3, 3,\n",
      "        3, 3, 3, 3, 3, 3, 3, 3, 3, 3, 3, 3, 3, 3, 3, 3, 3, 3, 3, 3, 3, 3, 3, 3,\n",
      "        3, 3, 3, 3, 3, 3, 3, 3, 3, 3, 3, 3, 3, 3, 3, 3, 3, 3, 3, 3, 3, 3, 3, 3,\n",
      "        3, 3, 3, 3, 3, 3, 3, 3], device='cuda:0')\n",
      "tensor([10,  5, 10,  9, 10, 10,  5, 10, 10, 10,  7,  9,  8, 10, 11, 10,  8, 10,\n",
      "         6, 10, 10,  8,  4, 10,  9, 10, 10, 10, 10, 10, 10,  6, 10,  9, 10, 10,\n",
      "        10, 10, 10, 10,  7, 10, 12, 10, 12, 10, 10,  7, 10,  6,  8,  6, 10,  9,\n",
      "        10,  9, 10, 10,  5, 10, 10, 10,  9,  8, 10, 10,  6,  6,  6, 11,  2, 20,\n",
      "        10,  6,  8, 10,  9, 11, 11, 10, 10, 10,  6,  7, 10, 10, 10, 10, 10, 10,\n",
      "        10, 10, 10, 10,  7, 10, 10, 10,  7, 14, 10,  8, 10, 10, 10, 10, 10, 10,\n",
      "        10, 10, 10, 10, 10, 10,  4,  6, 10, 10, 10, 16, 15, 10,  9, 10, 10,  7,\n",
      "        10, 10], device='cuda:0')\n",
      "0,4\tLoss:3.05069\tAllocated:0.886GB\tCached:0.886GB\n",
      "\n",
      "Accuracy: 0.78125%\n",
      "tensor([3, 3, 3, 3, 3, 3, 3, 3, 3, 3, 3, 3, 3, 3, 3, 3, 3, 3, 3, 3, 3, 3, 3, 3,\n",
      "        3, 3, 3, 3, 3, 3, 3, 3, 3, 3, 3, 3, 3, 3, 3, 3, 3, 3, 3, 3, 3, 3, 3, 3,\n",
      "        3, 3, 3, 3, 3, 3, 3, 3, 3, 3, 3, 3, 3, 3, 3, 3, 3, 3, 3, 3, 3, 3, 3, 3,\n",
      "        3, 3, 3, 3, 3, 3, 3, 3, 3, 3, 3, 3, 3, 3, 3, 3, 3, 3, 3, 3, 3, 3, 3, 3,\n",
      "        3, 3, 3, 3, 3, 3, 3, 3, 3, 3, 3, 3, 3, 3, 3, 3, 3, 3, 3, 3, 3, 3, 3, 3,\n",
      "        3, 3, 3, 3, 3, 3, 3, 3], device='cuda:0')\n",
      "tensor([10,  8,  7, 20, 10, 10,  6, 10,  9, 11, 10, 10, 16,  6, 18, 10, 10, 10,\n",
      "        10,  8, 10,  7,  9,  4, 10, 12, 10, 10,  9, 10,  6, 10, 10, 10, 10, 10,\n",
      "        10,  9, 10, 10, 16,  9, 10, 11, 10, 10,  6,  6, 10, 10,  7, 10,  5,  8,\n",
      "         7, 10,  5, 10, 10, 10, 10, 10,  7, 10, 10,  6,  8, 12, 10,  9,  2, 10,\n",
      "        10, 20, 10, 15, 10, 10, 10,  9,  8, 10, 10, 10, 10, 10, 10, 10, 10, 10,\n",
      "        10, 10, 10, 10, 11, 10, 10,  9, 10, 10, 10, 10, 18, 11, 10, 10,  9,  9,\n",
      "        10, 16,  8,  4,  9, 14,  5, 10, 10, 10,  7, 10, 10, 10, 10, 10, 10, 10,\n",
      "        10, 10], device='cuda:0')\n",
      "0,5\tLoss:3.03897\tAllocated:0.886GB\tCached:0.886GB\n",
      "\n",
      "Accuracy: 2.34375%\n",
      "tensor([3, 3, 3, 3, 3, 3, 3, 3, 3, 3, 3, 3, 3, 3, 3, 3, 3, 3, 3, 3, 3, 3, 3, 3,\n",
      "        3, 3, 3, 3, 3, 3, 3, 3, 3, 3, 3, 3, 3, 3, 3, 3, 3, 3, 3, 3, 3, 3, 3, 3,\n",
      "        3, 3, 3, 3, 3, 3, 3, 3, 3, 3, 3, 3, 3, 3, 3, 3, 3, 3, 3, 3, 3, 3, 3, 3,\n",
      "        3, 3, 3, 3, 3, 3, 3, 3, 3, 3, 3, 3, 3, 3, 3, 3, 3, 3, 3, 3, 3, 3, 3, 3,\n",
      "        3, 3, 3, 3, 3, 3, 3, 3, 3, 3, 3, 3, 3, 3, 3, 3, 3, 3, 3, 3, 3, 3, 3, 3,\n",
      "        3, 3, 3, 3, 3, 3, 3, 3], device='cuda:0')\n",
      "tensor([10, 10, 14,  9,  9, 11,  4, 12, 10,  5,  9,  7, 10,  8, 10, 10, 10, 10,\n",
      "         8, 10,  6,  9, 10, 10,  8, 10, 10,  9, 12,  7, 10,  8, 14, 10,  9,  9,\n",
      "        10, 15, 10,  9,  6, 10, 10,  9,  9,  9,  6, 10,  7,  5,  9, 10, 10,  7,\n",
      "        10,  8, 10,  9, 10,  7, 11, 10,  8, 10,  9, 11, 14,  7, 10, 10, 10, 10,\n",
      "         8, 10, 11, 10, 10, 10, 14, 10, 10, 10, 10, 10, 10, 11, 10, 10, 10,  6,\n",
      "         9, 10,  6,  9, 14, 10,  8,  8,  7, 10,  9,  9, 10, 10, 10,  3,  7, 10,\n",
      "        10,  5, 15, 12, 10, 10,  9, 18, 10, 10,  7, 10, 10, 10,  8, 10, 10, 10,\n",
      "        15, 11], device='cuda:0')\n",
      "0,6\tLoss:3.06708\tAllocated:0.886GB\tCached:0.886GB\n",
      "\n",
      "Accuracy: 2.34375%\n",
      "tensor([3, 3, 3, 3, 3, 3, 3, 3, 3, 3, 3, 3, 3, 3, 3, 3, 3, 3, 3, 3, 3, 3, 3, 3,\n",
      "        3, 3, 3, 3, 3, 3, 3, 3, 3, 3, 3, 3, 3, 3, 3, 3, 3, 3, 3, 3, 3, 3, 3, 3,\n",
      "        3, 3, 3, 3, 3, 3, 3, 3, 3, 3, 3, 3, 3, 3, 3, 3, 3, 3, 3, 3, 3, 3, 3, 3,\n",
      "        3, 3, 3, 3, 3, 3, 3, 3, 3, 3, 3, 3, 3, 3, 3, 3, 3, 3, 3, 3, 3, 3, 3, 3,\n",
      "        3, 3, 3, 3, 3, 3, 3, 3, 3, 3, 3, 3, 3, 3, 3, 3, 3, 3, 3, 3, 3, 3, 3, 3,\n",
      "        3, 3, 3, 3, 3, 3, 3, 3], device='cuda:0')\n",
      "tensor([10, 10, 10, 10, 10,  7, 10, 16, 10, 12,  8,  9,  5,  7, 10,  3, 10,  9,\n",
      "        10, 10, 10,  5, 10, 10, 10, 10,  8,  6, 10,  8,  8,  8, 11, 10, 12, 10,\n",
      "        10, 10,  7, 10, 10, 10,  5, 10,  9, 10, 10,  6,  8, 10, 10,  9, 10,  9,\n",
      "        10, 10, 10,  4,  7, 10,  6, 18, 10, 10,  4, 10,  0, 10,  9, 10,  8, 10,\n",
      "        10, 10,  8, 10,  8, 10,  9, 20, 10,  6,  8, 10, 10,  7, 10, 10, 10,  5,\n",
      "        10,  4, 10, 10, 10, 10, 10, 10, 10, 10, 10, 10,  9,  4, 10, 10, 10, 10,\n",
      "        10,  7, 10, 12,  9, 10, 10,  9,  6,  9,  9,  6, 10, 10, 10, 10, 10, 10,\n",
      "         4,  9], device='cuda:0')\n",
      "0,7\tLoss:3.04765\tAllocated:0.886GB\tCached:0.886GB\n",
      "\n",
      "Accuracy: 1.5625%\n",
      "tensor([3, 3, 3, 3, 3, 3, 3, 3, 3, 3, 3, 3, 3, 3, 3, 3, 3, 3, 3, 3, 3, 3, 3, 3,\n",
      "        3, 3, 3, 3, 3, 3, 3, 3, 3, 3, 3, 3, 3, 3, 3, 3, 3, 3, 3, 3, 3, 3, 3, 3,\n",
      "        3, 3, 3, 3, 3, 3, 3, 3, 3, 3, 3, 3, 3, 3, 3, 3, 3, 3, 3, 3, 3, 3, 3, 3,\n",
      "        3, 3, 3, 3, 3, 3, 3, 3, 3, 3, 3, 3, 3, 3, 3, 3, 3, 3, 3, 3, 3, 3, 3, 3,\n",
      "        3, 3, 3, 3, 3, 3, 3, 3, 3, 3, 3, 3, 3, 3, 3, 3, 3, 3, 3, 3, 3, 3, 3, 3,\n",
      "        3, 3, 3, 3, 3, 3, 3, 3], device='cuda:0')\n",
      "tensor([10, 10, 10, 10,  7, 10,  8,  9, 10, 10, 10, 10,  7,  7,  9, 10, 10, 10,\n",
      "        10, 20, 10, 13,  9, 10,  7, 14, 10,  9,  6, 10,  8, 10, 10,  9,  9, 10,\n",
      "         9, 20,  9, 10,  3,  6, 10, 10,  6, 19, 10, 10, 11, 16, 10,  8, 10, 10,\n",
      "         3,  5, 10, 10, 10, 10, 10, 10, 10,  9, 10, 14,  6, 10,  9, 10, 10, 10,\n",
      "        10, 10,  9, 12,  9,  9, 10, 18,  7, 10, 10,  5, 10, 10, 10, 10, 10, 10,\n",
      "        10, 10, 11,  7,  8, 11, 10,  5,  8, 10, 10, 10, 10, 10, 10, 11, 10,  9,\n",
      "         8, 15, 10, 10, 10, 10, 10, 10, 10,  9, 10, 10, 10, 10, 10, 11, 10, 10,\n",
      "         6, 10], device='cuda:0')\n",
      "0,8\tLoss:3.00288\tAllocated:0.886GB\tCached:0.886GB\n",
      "\n"
     ]
    },
    {
     "name": "stdout",
     "output_type": "stream",
     "text": [
      "Accuracy: 3.125%\n",
      "tensor([3, 3, 3, 3, 3, 3, 3, 3, 3, 3, 3, 3, 3, 3, 3, 3, 3, 3, 3, 3, 3, 3, 3, 3,\n",
      "        3, 3, 3, 3, 3, 3, 3, 3, 3, 3, 3, 3, 3, 3, 3, 3, 3, 3, 3, 3, 3, 3, 3, 3,\n",
      "        3, 3, 3, 3, 3, 3, 3, 3, 3, 3, 3, 3, 3, 3, 3, 3, 3, 3, 3, 3, 3, 3, 3, 3,\n",
      "        3, 3, 3, 3, 3, 3, 3, 3, 3, 3, 3, 3, 3, 3, 3, 3, 3, 3, 3, 3, 3, 3, 3, 3,\n",
      "        3, 3, 3, 3, 3, 3, 3, 3, 3, 3, 3, 3, 3, 3, 3, 3, 3, 3, 3, 3, 3, 3, 3, 3,\n",
      "        3, 3, 3, 3, 3, 3, 3, 3], device='cuda:0')\n",
      "tensor([ 9, 10, 10, 10, 10,  9, 14, 15,  5, 10, 10,  1,  8, 13,  5, 10, 15, 10,\n",
      "        10,  8, 10, 10, 10, 10, 10, 10, 10, 10, 10, 10, 10, 10,  9,  8, 10,  6,\n",
      "        10,  6, 10, 10, 10,  5, 10, 14,  9,  8, 10, 10, 10,  7, 10, 10, 10,  7,\n",
      "        10,  7, 10, 10, 10, 10,  8, 10, 10, 10, 10,  9, 10, 10,  6, 10, 10, 10,\n",
      "        10,  6, 10,  9, 10,  9,  9,  8, 10, 10, 10,  8, 10, 10,  8, 10, 10,  7,\n",
      "         0,  8, 10, 10,  8, 10, 10,  9, 10, 10,  4,  8, 10, 10,  8, 10,  2,  9,\n",
      "         4, 10,  9,  5, 10, 10, 10, 10,  9,  6,  9, 10, 10, 10, 10, 10, 16, 10,\n",
      "         9, 10], device='cuda:0')\n",
      "0,9\tLoss:3.06881\tAllocated:0.886GB\tCached:0.886GB\n",
      "\n",
      "Accuracy: 0.78125%\n",
      "tensor([3, 3, 3, 3, 3, 3, 3, 3, 3, 3, 3, 3, 3, 3, 3, 3, 3, 3, 3, 3, 3, 3, 3, 3,\n",
      "        3, 3, 3, 3, 3, 3, 3, 3, 3, 3, 3, 3, 3, 3, 3, 3, 3, 3, 3, 3, 3, 3, 3, 3,\n",
      "        3, 3, 3, 3, 3, 3, 3, 3, 3, 3, 3, 3, 3, 3, 3, 3, 3, 3, 3, 3, 3, 3, 3, 3,\n",
      "        3, 3, 3, 3, 3, 3, 3, 3, 3, 3, 3, 3, 3, 3, 3, 3, 3, 3, 3, 3, 3, 3, 3, 3,\n",
      "        3, 3, 3, 3, 3, 3, 3, 3, 3, 3, 3, 3, 3, 3, 3, 3, 3, 3, 3, 3, 3, 3, 3, 3,\n",
      "        3, 3, 3, 3, 3, 3, 3, 3], device='cuda:0')\n",
      "tensor([10, 10, 10, 10, 10, 10,  8, 10, 12,  8, 10, 10, 10, 10, 10, 10,  7, 10,\n",
      "        18, 10, 15, 10, 10, 10, 10, 10, 10,  8, 10, 10, 10, 10,  9, 10,  9,  8,\n",
      "        10,  9, 10,  7, 10, 10,  8,  6, 14, 10, 10, 15,  9,  6,  6, 10, 10, 10,\n",
      "        10, 10, 10,  9,  9, 20, 10,  1, 10,  9,  9,  1,  9,  9, 10,  7, 16, 10,\n",
      "         6,  8, 10, 10, 10, 10,  6,  6,  9,  6,  6, 14, 10,  9, 10, 10, 10, 13,\n",
      "         9,  7,  9,  9, 10,  9, 10,  8,  8, 10, 10,  6, 10,  7,  8, 10, 10,  8,\n",
      "        10, 10, 10, 10,  9, 10, 10, 10, 10, 10, 10,  2, 10,  9, 10, 10,  8,  9,\n",
      "        10,  9], device='cuda:0')\n",
      "0,10\tLoss:3.05013\tAllocated:0.886GB\tCached:0.886GB\n",
      "\n",
      "Accuracy: 0.0%\n",
      "tensor([3, 3, 3, 3, 3, 3, 3, 3, 3, 3, 3, 3, 3, 3, 3, 3, 3, 3, 3, 3, 3, 3, 3, 3,\n",
      "        3, 3, 3, 3, 3, 3, 3, 3, 3, 3, 3, 3, 3, 3, 3, 3, 3, 3, 3, 3, 3, 3, 3, 3,\n",
      "        3, 3, 3, 3, 3, 3, 3, 3, 3, 3, 3, 3, 3, 3, 3, 3, 3, 3, 3, 3, 3, 3, 3, 3,\n",
      "        3, 3, 3, 3, 3, 3, 3, 3, 3, 3, 3, 3, 3, 3, 3, 3, 3, 3, 3, 3, 3, 3, 3, 3,\n",
      "        3, 3, 3, 3, 3, 3, 3, 3, 3, 3, 3, 3, 3, 3, 3, 3, 3, 3, 3, 3, 3, 3, 3, 3,\n",
      "        3, 3, 3, 3, 3, 3, 3, 3], device='cuda:0')\n",
      "tensor([ 8, 10, 10,  8, 10,  9, 10, 10, 10,  8, 10, 10, 10, 10,  7,  9,  7, 10,\n",
      "        10, 10, 10,  9, 10, 10, 10, 10,  9, 10, 10,  7,  9, 10, 17, 10, 18, 10,\n",
      "        11, 10,  6,  8, 10, 10, 10, 10, 10, 10, 10,  9, 10,  5,  9, 17, 10, 10,\n",
      "         3,  7,  8, 10, 10, 10,  9, 10, 10,  9, 10, 14,  9, 10, 10, 10,  4, 10,\n",
      "        10, 10,  6, 15, 10, 10, 16, 10, 10,  9, 10, 11, 10,  5, 10, 15,  8,  6,\n",
      "         4,  8,  8,  7,  7, 10,  9, 20,  9,  9, 10,  9, 10, 12, 20, 10, 10, 10,\n",
      "        10,  9, 10,  6, 10, 10, 10, 10, 10,  8,  5, 10,  5,  8,  5, 10, 12, 10,\n",
      "        10, 10], device='cuda:0')\n",
      "0,11\tLoss:3.03678\tAllocated:0.886GB\tCached:0.886GB\n",
      "\n",
      "Accuracy: 0.0%\n",
      "tensor([3, 3, 3, 3, 3, 3, 3, 3, 3, 3, 3, 3, 3, 3, 3, 3, 3, 3, 3, 3, 3, 3, 3, 3,\n",
      "        3, 3, 3, 3, 3, 3, 3, 3, 3, 3, 3, 3, 3, 3, 3, 3, 3, 3, 3, 3, 3, 3, 3, 3,\n",
      "        3, 3, 3, 3, 3, 3, 3, 3, 3, 3, 3, 3, 3, 3, 3, 3, 3, 3, 3, 3, 3, 3, 3, 3,\n",
      "        3, 3, 3, 3, 3, 3, 3, 3, 3, 3, 3, 3, 3, 3, 3, 3, 3, 3, 3, 3, 3, 3, 3, 3,\n",
      "        3, 3, 3, 3, 3, 3, 3, 3, 3, 3, 3, 3, 3, 3, 3, 3, 3, 3, 3, 3, 3, 3, 3, 3,\n",
      "        3, 3, 3, 3, 3, 3, 3, 3], device='cuda:0')\n",
      "tensor([12, 10,  5,  9, 11,  9, 13, 10,  8, 10,  4, 10,  8, 10, 10,  1, 10, 10,\n",
      "        10,  9,  9, 10, 10, 10, 16,  6, 10, 10, 10, 20, 10, 10, 10, 10, 10,  8,\n",
      "        10, 10, 10, 12,  8, 10, 10, 10, 10, 10, 10, 10, 10, 10, 10, 10,  4, 10,\n",
      "        10, 10, 10, 11, 10,  7, 10, 10, 10, 10, 10,  9,  9, 10, 10, 11,  5, 13,\n",
      "         5,  9,  7, 10,  9,  8,  9, 10, 10, 10, 20,  9, 10, 10,  7, 10, 10,  9,\n",
      "         5,  4, 10, 10,  7, 20, 10,  5, 10, 10,  6,  8, 20, 13,  9,  6,  7, 10,\n",
      "        10, 10,  9, 10, 12,  8, 10, 10, 10, 10,  9,  9, 12,  8,  8, 16, 10, 10,\n",
      "        15, 10], device='cuda:0')\n",
      "0,12\tLoss:3.04533\tAllocated:0.886GB\tCached:0.886GB\n",
      "\n",
      "Accuracy: 0.78125%\n",
      "tensor([3, 3, 3, 3, 3, 3, 3, 3, 3, 3, 3, 3, 3, 3, 3, 3, 3, 3, 3, 3, 3, 3, 3, 3,\n",
      "        3, 3, 3, 3, 3, 3, 3, 3, 3, 3, 3, 3, 3, 3, 3, 3, 3, 3, 3, 3, 3, 3, 3, 3,\n",
      "        3, 3, 3, 3, 3, 3, 3, 3, 3, 3, 3, 3, 3, 3, 3, 3, 3, 3, 3, 3, 3, 3, 3, 3,\n",
      "        3, 3, 3, 3, 3, 3, 3, 3, 3, 3, 3, 3, 3, 3, 3, 3, 3, 3, 3, 3, 3, 3, 3, 3,\n",
      "        3, 3, 3, 3, 3, 3, 3, 3, 3, 3, 3, 3, 3, 3, 3, 3, 3, 3, 3, 3, 3, 3, 3, 3,\n",
      "        3, 3, 3, 3, 3, 3, 3, 3], device='cuda:0')\n",
      "tensor([ 8, 10, 10,  3,  8, 10, 10, 10,  9,  4, 10,  8,  8, 10, 10, 10, 10,  9,\n",
      "        10, 10,  7, 10,  8, 10,  9,  7, 10,  8,  6, 10, 10, 10, 12, 16, 10, 13,\n",
      "        10, 10, 10,  8, 10,  8, 16, 10,  9, 10,  3,  7, 10,  6, 10, 12, 10,  8,\n",
      "        10, 10, 10,  5, 10, 14,  8, 10, 10, 10,  9, 10, 10, 10, 10, 10,  6,  8,\n",
      "        10, 11,  9,  8, 10, 10, 10, 10, 10,  9, 10, 10, 10, 10,  3, 14,  8, 10,\n",
      "         6, 10, 10,  6, 11,  9,  9,  8,  9, 10, 10, 10, 10, 10,  5,  5, 10, 10,\n",
      "        10,  9, 10,  8, 10,  9,  5,  8, 10, 10,  8,  4, 10,  8, 11, 11,  8, 10,\n",
      "         3, 10], device='cuda:0')\n",
      "0,13\tLoss:3.02588\tAllocated:0.886GB\tCached:0.886GB\n",
      "\n"
     ]
    },
    {
     "ename": "KeyboardInterrupt",
     "evalue": "",
     "output_type": "error",
     "traceback": [
      "\u001b[0;31m---------------------------------------------------------------------------\u001b[0m",
      "\u001b[0;31mKeyboardInterrupt\u001b[0m                         Traceback (most recent call last)",
      "\u001b[0;32m<ipython-input-12-a7e6d7683fef>\u001b[0m in \u001b[0;36m<module>\u001b[0;34m\u001b[0m\n\u001b[1;32m      9\u001b[0m \u001b[0;31m#net.load(\"snapshots/1.217_model.pt\")\u001b[0m\u001b[0;34m\u001b[0m\u001b[0;34m\u001b[0m\u001b[0;34m\u001b[0m\u001b[0m\n\u001b[1;32m     10\u001b[0m \u001b[0;34m\u001b[0m\u001b[0m\n\u001b[0;32m---> 11\u001b[0;31m \u001b[0mnet\u001b[0m\u001b[0;34m.\u001b[0m\u001b[0mfit\u001b[0m\u001b[0;34m(\u001b[0m\u001b[0mdevice\u001b[0m\u001b[0;34m,\u001b[0m\u001b[0mepochs\u001b[0m\u001b[0;34m,\u001b[0m\u001b[0moptimizer\u001b[0m\u001b[0;34m,\u001b[0m\u001b[0mcriterion\u001b[0m\u001b[0;34m)\u001b[0m\u001b[0;34m\u001b[0m\u001b[0;34m\u001b[0m\u001b[0m\n\u001b[0m",
      "\u001b[0;32m/localdata/csc1/Imitation-Learning-Net/net/classification/Model.ipynb\u001b[0m in \u001b[0;36mfit\u001b[0;34m(self, device, epochs, optimizer, criterion)\u001b[0m\n",
      "\u001b[0;32m/localdata/csc1/Imitation-Learning-Net/net/classification/Model.ipynb\u001b[0m in \u001b[0;36mscore\u001b[0;34m(self, device, dataset, single_batch)\u001b[0m\n",
      "\u001b[0;32m~/anaconda3/lib/python3.7/site-packages/torch/utils/data/dataloader.py\u001b[0m in \u001b[0;36m__next__\u001b[0;34m(self)\u001b[0m\n\u001b[1;32m    558\u001b[0m         \u001b[0;32mif\u001b[0m \u001b[0mself\u001b[0m\u001b[0;34m.\u001b[0m\u001b[0mnum_workers\u001b[0m \u001b[0;34m==\u001b[0m \u001b[0;36m0\u001b[0m\u001b[0;34m:\u001b[0m  \u001b[0;31m# same-process loading\u001b[0m\u001b[0;34m\u001b[0m\u001b[0;34m\u001b[0m\u001b[0m\n\u001b[1;32m    559\u001b[0m             \u001b[0mindices\u001b[0m \u001b[0;34m=\u001b[0m \u001b[0mnext\u001b[0m\u001b[0;34m(\u001b[0m\u001b[0mself\u001b[0m\u001b[0;34m.\u001b[0m\u001b[0msample_iter\u001b[0m\u001b[0;34m)\u001b[0m  \u001b[0;31m# may raise StopIteration\u001b[0m\u001b[0;34m\u001b[0m\u001b[0;34m\u001b[0m\u001b[0m\n\u001b[0;32m--> 560\u001b[0;31m             \u001b[0mbatch\u001b[0m \u001b[0;34m=\u001b[0m \u001b[0mself\u001b[0m\u001b[0;34m.\u001b[0m\u001b[0mcollate_fn\u001b[0m\u001b[0;34m(\u001b[0m\u001b[0;34m[\u001b[0m\u001b[0mself\u001b[0m\u001b[0;34m.\u001b[0m\u001b[0mdataset\u001b[0m\u001b[0;34m[\u001b[0m\u001b[0mi\u001b[0m\u001b[0;34m]\u001b[0m \u001b[0;32mfor\u001b[0m \u001b[0mi\u001b[0m \u001b[0;32min\u001b[0m \u001b[0mindices\u001b[0m\u001b[0;34m]\u001b[0m\u001b[0;34m)\u001b[0m\u001b[0;34m\u001b[0m\u001b[0;34m\u001b[0m\u001b[0m\n\u001b[0m\u001b[1;32m    561\u001b[0m             \u001b[0;32mif\u001b[0m \u001b[0mself\u001b[0m\u001b[0;34m.\u001b[0m\u001b[0mpin_memory\u001b[0m\u001b[0;34m:\u001b[0m\u001b[0;34m\u001b[0m\u001b[0;34m\u001b[0m\u001b[0m\n\u001b[1;32m    562\u001b[0m                 \u001b[0mbatch\u001b[0m \u001b[0;34m=\u001b[0m \u001b[0m_utils\u001b[0m\u001b[0;34m.\u001b[0m\u001b[0mpin_memory\u001b[0m\u001b[0;34m.\u001b[0m\u001b[0mpin_memory_batch\u001b[0m\u001b[0;34m(\u001b[0m\u001b[0mbatch\u001b[0m\u001b[0;34m)\u001b[0m\u001b[0;34m\u001b[0m\u001b[0;34m\u001b[0m\u001b[0m\n",
      "\u001b[0;32m~/anaconda3/lib/python3.7/site-packages/torch/utils/data/dataloader.py\u001b[0m in \u001b[0;36m<listcomp>\u001b[0;34m(.0)\u001b[0m\n\u001b[1;32m    558\u001b[0m         \u001b[0;32mif\u001b[0m \u001b[0mself\u001b[0m\u001b[0;34m.\u001b[0m\u001b[0mnum_workers\u001b[0m \u001b[0;34m==\u001b[0m \u001b[0;36m0\u001b[0m\u001b[0;34m:\u001b[0m  \u001b[0;31m# same-process loading\u001b[0m\u001b[0;34m\u001b[0m\u001b[0;34m\u001b[0m\u001b[0m\n\u001b[1;32m    559\u001b[0m             \u001b[0mindices\u001b[0m \u001b[0;34m=\u001b[0m \u001b[0mnext\u001b[0m\u001b[0;34m(\u001b[0m\u001b[0mself\u001b[0m\u001b[0;34m.\u001b[0m\u001b[0msample_iter\u001b[0m\u001b[0;34m)\u001b[0m  \u001b[0;31m# may raise StopIteration\u001b[0m\u001b[0;34m\u001b[0m\u001b[0;34m\u001b[0m\u001b[0m\n\u001b[0;32m--> 560\u001b[0;31m             \u001b[0mbatch\u001b[0m \u001b[0;34m=\u001b[0m \u001b[0mself\u001b[0m\u001b[0;34m.\u001b[0m\u001b[0mcollate_fn\u001b[0m\u001b[0;34m(\u001b[0m\u001b[0;34m[\u001b[0m\u001b[0mself\u001b[0m\u001b[0;34m.\u001b[0m\u001b[0mdataset\u001b[0m\u001b[0;34m[\u001b[0m\u001b[0mi\u001b[0m\u001b[0;34m]\u001b[0m \u001b[0;32mfor\u001b[0m \u001b[0mi\u001b[0m \u001b[0;32min\u001b[0m \u001b[0mindices\u001b[0m\u001b[0;34m]\u001b[0m\u001b[0;34m)\u001b[0m\u001b[0;34m\u001b[0m\u001b[0;34m\u001b[0m\u001b[0m\n\u001b[0m\u001b[1;32m    561\u001b[0m             \u001b[0;32mif\u001b[0m \u001b[0mself\u001b[0m\u001b[0;34m.\u001b[0m\u001b[0mpin_memory\u001b[0m\u001b[0;34m:\u001b[0m\u001b[0;34m\u001b[0m\u001b[0;34m\u001b[0m\u001b[0m\n\u001b[1;32m    562\u001b[0m                 \u001b[0mbatch\u001b[0m \u001b[0;34m=\u001b[0m \u001b[0m_utils\u001b[0m\u001b[0;34m.\u001b[0m\u001b[0mpin_memory\u001b[0m\u001b[0;34m.\u001b[0m\u001b[0mpin_memory_batch\u001b[0m\u001b[0;34m(\u001b[0m\u001b[0mbatch\u001b[0m\u001b[0;34m)\u001b[0m\u001b[0;34m\u001b[0m\u001b[0;34m\u001b[0m\u001b[0m\n",
      "\u001b[0;32m/localdata/csc1/Imitation-Learning-Net/net/classification/CustomDataset.ipynb\u001b[0m in \u001b[0;36m__getitem__\u001b[0;34m(self, idx)\u001b[0m\n",
      "\u001b[0;32m/localdata/csc1/Imitation-Learning-Net/net/classification/CustomDataset.ipynb\u001b[0m in \u001b[0;36mget_stack\u001b[0;34m(self, index, stack_size)\u001b[0m\n",
      "\u001b[0;32m/localdata/csc1/Imitation-Learning-Net/net/classification/CustomDataset.ipynb\u001b[0m in \u001b[0;36m<listcomp>\u001b[0;34m(.0)\u001b[0m\n",
      "\u001b[0;32m~/anaconda3/lib/python3.7/site-packages/skimage/io/_io.py\u001b[0m in \u001b[0;36mimread\u001b[0;34m(fname, as_gray, plugin, flatten, **plugin_args)\u001b[0m\n\u001b[1;32m     60\u001b[0m \u001b[0;34m\u001b[0m\u001b[0m\n\u001b[1;32m     61\u001b[0m     \u001b[0;32mwith\u001b[0m \u001b[0mfile_or_url_context\u001b[0m\u001b[0;34m(\u001b[0m\u001b[0mfname\u001b[0m\u001b[0;34m)\u001b[0m \u001b[0;32mas\u001b[0m \u001b[0mfname\u001b[0m\u001b[0;34m:\u001b[0m\u001b[0;34m\u001b[0m\u001b[0;34m\u001b[0m\u001b[0m\n\u001b[0;32m---> 62\u001b[0;31m         \u001b[0mimg\u001b[0m \u001b[0;34m=\u001b[0m \u001b[0mcall_plugin\u001b[0m\u001b[0;34m(\u001b[0m\u001b[0;34m'imread'\u001b[0m\u001b[0;34m,\u001b[0m \u001b[0mfname\u001b[0m\u001b[0;34m,\u001b[0m \u001b[0mplugin\u001b[0m\u001b[0;34m=\u001b[0m\u001b[0mplugin\u001b[0m\u001b[0;34m,\u001b[0m \u001b[0;34m**\u001b[0m\u001b[0mplugin_args\u001b[0m\u001b[0;34m)\u001b[0m\u001b[0;34m\u001b[0m\u001b[0;34m\u001b[0m\u001b[0m\n\u001b[0m\u001b[1;32m     63\u001b[0m \u001b[0;34m\u001b[0m\u001b[0m\n\u001b[1;32m     64\u001b[0m     \u001b[0;32mif\u001b[0m \u001b[0;32mnot\u001b[0m \u001b[0mhasattr\u001b[0m\u001b[0;34m(\u001b[0m\u001b[0mimg\u001b[0m\u001b[0;34m,\u001b[0m \u001b[0;34m'ndim'\u001b[0m\u001b[0;34m)\u001b[0m\u001b[0;34m:\u001b[0m\u001b[0;34m\u001b[0m\u001b[0;34m\u001b[0m\u001b[0m\n",
      "\u001b[0;32m~/anaconda3/lib/python3.7/site-packages/skimage/io/manage_plugins.py\u001b[0m in \u001b[0;36mcall_plugin\u001b[0;34m(kind, *args, **kwargs)\u001b[0m\n\u001b[1;32m    212\u001b[0m                                (plugin, kind))\n\u001b[1;32m    213\u001b[0m \u001b[0;34m\u001b[0m\u001b[0m\n\u001b[0;32m--> 214\u001b[0;31m     \u001b[0;32mreturn\u001b[0m \u001b[0mfunc\u001b[0m\u001b[0;34m(\u001b[0m\u001b[0;34m*\u001b[0m\u001b[0margs\u001b[0m\u001b[0;34m,\u001b[0m \u001b[0;34m**\u001b[0m\u001b[0mkwargs\u001b[0m\u001b[0;34m)\u001b[0m\u001b[0;34m\u001b[0m\u001b[0;34m\u001b[0m\u001b[0m\n\u001b[0m\u001b[1;32m    215\u001b[0m \u001b[0;34m\u001b[0m\u001b[0m\n\u001b[1;32m    216\u001b[0m \u001b[0;34m\u001b[0m\u001b[0m\n",
      "\u001b[0;32m~/anaconda3/lib/python3.7/site-packages/skimage/io/_plugins/pil_plugin.py\u001b[0m in \u001b[0;36mimread\u001b[0;34m(fname, dtype, img_num, **kwargs)\u001b[0m\n\u001b[1;32m     35\u001b[0m         \u001b[0;32mwith\u001b[0m \u001b[0mopen\u001b[0m\u001b[0;34m(\u001b[0m\u001b[0mfname\u001b[0m\u001b[0;34m,\u001b[0m \u001b[0;34m'rb'\u001b[0m\u001b[0;34m)\u001b[0m \u001b[0;32mas\u001b[0m \u001b[0mf\u001b[0m\u001b[0;34m:\u001b[0m\u001b[0;34m\u001b[0m\u001b[0;34m\u001b[0m\u001b[0m\n\u001b[1;32m     36\u001b[0m             \u001b[0mim\u001b[0m \u001b[0;34m=\u001b[0m \u001b[0mImage\u001b[0m\u001b[0;34m.\u001b[0m\u001b[0mopen\u001b[0m\u001b[0;34m(\u001b[0m\u001b[0mf\u001b[0m\u001b[0;34m)\u001b[0m\u001b[0;34m\u001b[0m\u001b[0;34m\u001b[0m\u001b[0m\n\u001b[0;32m---> 37\u001b[0;31m             \u001b[0;32mreturn\u001b[0m \u001b[0mpil_to_ndarray\u001b[0m\u001b[0;34m(\u001b[0m\u001b[0mim\u001b[0m\u001b[0;34m,\u001b[0m \u001b[0mdtype\u001b[0m\u001b[0;34m=\u001b[0m\u001b[0mdtype\u001b[0m\u001b[0;34m,\u001b[0m \u001b[0mimg_num\u001b[0m\u001b[0;34m=\u001b[0m\u001b[0mimg_num\u001b[0m\u001b[0;34m)\u001b[0m\u001b[0;34m\u001b[0m\u001b[0;34m\u001b[0m\u001b[0m\n\u001b[0m\u001b[1;32m     38\u001b[0m     \u001b[0;32melse\u001b[0m\u001b[0;34m:\u001b[0m\u001b[0;34m\u001b[0m\u001b[0;34m\u001b[0m\u001b[0m\n\u001b[1;32m     39\u001b[0m         \u001b[0mim\u001b[0m \u001b[0;34m=\u001b[0m \u001b[0mImage\u001b[0m\u001b[0;34m.\u001b[0m\u001b[0mopen\u001b[0m\u001b[0;34m(\u001b[0m\u001b[0mfname\u001b[0m\u001b[0;34m)\u001b[0m\u001b[0;34m\u001b[0m\u001b[0;34m\u001b[0m\u001b[0m\n",
      "\u001b[0;32m~/anaconda3/lib/python3.7/site-packages/skimage/io/_plugins/pil_plugin.py\u001b[0m in \u001b[0;36mpil_to_ndarray\u001b[0;34m(image, dtype, img_num)\u001b[0m\n\u001b[1;32m     51\u001b[0m     \u001b[0;32mtry\u001b[0m\u001b[0;34m:\u001b[0m\u001b[0;34m\u001b[0m\u001b[0;34m\u001b[0m\u001b[0m\n\u001b[1;32m     52\u001b[0m         \u001b[0;31m# this will raise an IOError if the file is not readable\u001b[0m\u001b[0;34m\u001b[0m\u001b[0;34m\u001b[0m\u001b[0;34m\u001b[0m\u001b[0m\n\u001b[0;32m---> 53\u001b[0;31m         \u001b[0mimage\u001b[0m\u001b[0;34m.\u001b[0m\u001b[0mgetdata\u001b[0m\u001b[0;34m(\u001b[0m\u001b[0;34m)\u001b[0m\u001b[0;34m[\u001b[0m\u001b[0;36m0\u001b[0m\u001b[0;34m]\u001b[0m\u001b[0;34m\u001b[0m\u001b[0;34m\u001b[0m\u001b[0m\n\u001b[0m\u001b[1;32m     54\u001b[0m     \u001b[0;32mexcept\u001b[0m \u001b[0mIOError\u001b[0m \u001b[0;32mas\u001b[0m \u001b[0me\u001b[0m\u001b[0;34m:\u001b[0m\u001b[0;34m\u001b[0m\u001b[0;34m\u001b[0m\u001b[0m\n\u001b[1;32m     55\u001b[0m         \u001b[0msite\u001b[0m \u001b[0;34m=\u001b[0m \u001b[0;34m\"http://pillow.readthedocs.org/en/latest/installation.html#external-libraries\"\u001b[0m\u001b[0;34m\u001b[0m\u001b[0;34m\u001b[0m\u001b[0m\n",
      "\u001b[0;32m~/anaconda3/lib/python3.7/site-packages/PIL/Image.py\u001b[0m in \u001b[0;36mgetdata\u001b[0;34m(self, band)\u001b[0m\n\u001b[1;32m   1268\u001b[0m         \"\"\"\n\u001b[1;32m   1269\u001b[0m \u001b[0;34m\u001b[0m\u001b[0m\n\u001b[0;32m-> 1270\u001b[0;31m         \u001b[0mself\u001b[0m\u001b[0;34m.\u001b[0m\u001b[0mload\u001b[0m\u001b[0;34m(\u001b[0m\u001b[0;34m)\u001b[0m\u001b[0;34m\u001b[0m\u001b[0;34m\u001b[0m\u001b[0m\n\u001b[0m\u001b[1;32m   1271\u001b[0m         \u001b[0;32mif\u001b[0m \u001b[0mband\u001b[0m \u001b[0;32mis\u001b[0m \u001b[0;32mnot\u001b[0m \u001b[0;32mNone\u001b[0m\u001b[0;34m:\u001b[0m\u001b[0;34m\u001b[0m\u001b[0;34m\u001b[0m\u001b[0m\n\u001b[1;32m   1272\u001b[0m             \u001b[0;32mreturn\u001b[0m \u001b[0mself\u001b[0m\u001b[0;34m.\u001b[0m\u001b[0mim\u001b[0m\u001b[0;34m.\u001b[0m\u001b[0mgetband\u001b[0m\u001b[0;34m(\u001b[0m\u001b[0mband\u001b[0m\u001b[0;34m)\u001b[0m\u001b[0;34m\u001b[0m\u001b[0;34m\u001b[0m\u001b[0m\n",
      "\u001b[0;32m~/anaconda3/lib/python3.7/site-packages/PIL/ImageFile.py\u001b[0m in \u001b[0;36mload\u001b[0;34m(self)\u001b[0m\n\u001b[1;32m    239\u001b[0m \u001b[0;34m\u001b[0m\u001b[0m\n\u001b[1;32m    240\u001b[0m                             \u001b[0mb\u001b[0m \u001b[0;34m=\u001b[0m \u001b[0mb\u001b[0m \u001b[0;34m+\u001b[0m \u001b[0ms\u001b[0m\u001b[0;34m\u001b[0m\u001b[0;34m\u001b[0m\u001b[0m\n\u001b[0;32m--> 241\u001b[0;31m                             \u001b[0mn\u001b[0m\u001b[0;34m,\u001b[0m \u001b[0merr_code\u001b[0m \u001b[0;34m=\u001b[0m \u001b[0mdecoder\u001b[0m\u001b[0;34m.\u001b[0m\u001b[0mdecode\u001b[0m\u001b[0;34m(\u001b[0m\u001b[0mb\u001b[0m\u001b[0;34m)\u001b[0m\u001b[0;34m\u001b[0m\u001b[0;34m\u001b[0m\u001b[0m\n\u001b[0m\u001b[1;32m    242\u001b[0m                             \u001b[0;32mif\u001b[0m \u001b[0mn\u001b[0m \u001b[0;34m<\u001b[0m \u001b[0;36m0\u001b[0m\u001b[0;34m:\u001b[0m\u001b[0;34m\u001b[0m\u001b[0;34m\u001b[0m\u001b[0m\n\u001b[1;32m    243\u001b[0m                                 \u001b[0;32mbreak\u001b[0m\u001b[0;34m\u001b[0m\u001b[0;34m\u001b[0m\u001b[0m\n",
      "\u001b[0;31mKeyboardInterrupt\u001b[0m: "
     ]
    }
   ],
   "source": [
    "epochs = 30\n",
    "optimizer = optim.Adam(net.parameters(), lr=0.0001)\n",
    "print(type(weights))\n",
    "criterion = nn.CrossEntropyLoss(weight=weights) # Changed from Mean-Squared to Cross-Entropy\n",
    "#criterion = nn.MSELoss()\n",
    "net.report_period = 20\n",
    "\n",
    "net.optimizer = optimizer\n",
    "#net.load(\"snapshots/1.217_model.pt\")\n",
    "\n",
    "net.fit(device,epochs,optimizer,criterion)"
   ]
  },
  {
   "cell_type": "code",
   "execution_count": null,
   "metadata": {},
   "outputs": [],
   "source": [
    "# End of training Validation Test\n",
    "#net.load(\"snapshots/0.727_model.pt\")\n",
    "#total, correct = net.score(device,dataset, \"categorical\")\n",
    "\n",
    "total = 0\n",
    "correct = 0\n",
    "for i_batch, sampled_batch in enumerate(dataset.validloader):\n",
    "    images = sampled_batch['image'].to(device).float()\n",
    "    controls = sampled_batch['control'].to(device).long()\n",
    "    controls = torch.flatten(controls)\n",
    "    prediction = net(images)\n",
    "\n",
    "    maximum = torch.argmax(prediction,dim = 1)\n",
    "    print(maximum)\n",
    "    print(controls)\n",
    "    shared = maximum == controls\n",
    "    shared = 1 * shared\n",
    "    correct += int(torch.sum(shared))\n",
    "    total += len(controls)\n",
    "\n",
    "\n",
    "\n",
    "print(\"{:.1f}% classified correctly\".format(100*correct/total))"
   ]
  },
  {
   "cell_type": "code",
   "execution_count": null,
   "metadata": {},
   "outputs": [],
   "source": [
    "# Beginning of training Validation Test\n",
    "net.load(\"snapshots/3.002_model.pt\")\n",
    "total, correct = net.score(device,dataset, \"categorical\")\n",
    "print(\"{:.1f}% classified correctly\".format(100*correct/total))"
   ]
  },
  {
   "cell_type": "code",
   "execution_count": null,
   "metadata": {},
   "outputs": [],
   "source": [
    "torch.cuda.empty_cache()"
   ]
  },
  {
   "cell_type": "code",
   "execution_count": null,
   "metadata": {},
   "outputs": [],
   "source": [
    "#Additional Info when using cuda\n",
    "device = torch.device('cuda' if torch.cuda.is_available() else 'cpu')\n",
    "if device.type == 'cuda':\n",
    "    print(torch.cuda.get_device_name(0))\n",
    "    print('Memory Usage:')\n",
    "    print('Allocated:', round(torch.cuda.memory_allocated(0)/1024**3,1), 'GB')\n",
    "    print('Cached:   ', round(torch.cuda.memory_cached(0)/1024))"
   ]
  },
  {
   "cell_type": "code",
   "execution_count": null,
   "metadata": {},
   "outputs": [],
   "source": []
  },
  {
   "cell_type": "code",
   "execution_count": null,
   "metadata": {},
   "outputs": [],
   "source": []
  }
 ],
 "metadata": {
  "kernelspec": {
   "display_name": "Python 3",
   "language": "python",
   "name": "python3"
  },
  "language_info": {
   "codemirror_mode": {
    "name": "ipython",
    "version": 3
   },
   "file_extension": ".py",
   "mimetype": "text/x-python",
   "name": "python",
   "nbconvert_exporter": "python",
   "pygments_lexer": "ipython3",
   "version": "3.7.3"
  }
 },
 "nbformat": 4,
 "nbformat_minor": 2
}
