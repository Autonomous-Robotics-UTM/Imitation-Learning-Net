{
 "cells": [
  {
   "cell_type": "code",
   "execution_count": 1,
   "metadata": {},
   "outputs": [
    {
     "name": "stdout",
     "output_type": "stream",
     "text": [
      "importing Jupyter notebook from CustomDataset.ipynb\n"
     ]
    }
   ],
   "source": [
    "import import_ipynb\n",
    "from CustomDataset import ControlsDataset\n",
    "\n",
    "import os\n",
    "import torch\n",
    "from skimage import io, transform\n",
    "import numpy as np\n",
    "import matplotlib.pyplot as plt\n",
    "from torch.utils.data import Dataset, DataLoader\n",
    "import torch.nn as nn\n",
    "import torch.nn.functional as F\n",
    "from tensorboardX import SummaryWriter\n",
    "\n",
    "# Ignore warnings\n",
    "import warnings\n",
    "warnings.filterwarnings(\"ignore\")\n",
    "\n",
    "plt.ion()   # interactive mode\n"
   ]
  },
  {
   "cell_type": "code",
   "execution_count": 2,
   "metadata": {},
   "outputs": [
    {
     "name": "stdout",
     "output_type": "stream",
     "text": [
      "Total training stacks 7\n",
      "Total validation stacks 2\n"
     ]
    }
   ],
   "source": [
    "if __name__ == \"__main__\":\n",
    "    dataset = ControlsDataset()\n",
    "    dataset.labels.num_categories = 21\n",
    "    dataset.labels.transform.categorize(1.05, -1.05, 21)\n",
    "    #dataset.images.set_grayscale(True)\n",
    "    dataset.make_dataloaders()\n",
    "    #dataloader = DataLoader(dataset, batch_size = 256, shuffle = True, num_workers = 0)"
   ]
  },
  {
   "cell_type": "code",
   "execution_count": 3,
   "metadata": {},
   "outputs": [
    {
     "name": "stdout",
     "output_type": "stream",
     "text": [
      "units after conv 4864\n",
      "fc parameters:  14815765\n"
     ]
    }
   ],
   "source": [
    "\n",
    "from tqdm.notebook import tqdm_notebook\n",
    "class ConvNet(nn.Module):\n",
    "    def __init__(self,color_channels,outputs,dataset):\n",
    "        super(ConvNet, self).__init__()\n",
    "        \n",
    "        self.channels = color_channels\n",
    "        self.report_period = 20\n",
    "        self.writer = SummaryWriter()\n",
    "        self.start_epoch = 0\n",
    "        self.infotype = dataset.labels.infotype\n",
    "        self.dataset = dataset\n",
    "        self.dataloader = dataset.dataloader\n",
    "        \n",
    "        img_size = torch.Size([1, color_channels, 170, 640]) # [batch_size, channels, height, width]\n",
    "        empty = torch.zeros(img_size)\n",
    "        # Conv2d(in_channels, out_channels, kernelSize, strides)\n",
    "        # strideon train masks your variable train, and=3 ==> moving Filter 3 pixels between the application of kernel size\n",
    "        \n",
    "        self.conv1 = nn.Sequential(nn.Conv2d(color_channels, 16, 3, stride=2),\n",
    "                                  nn.MaxPool2d(2),\n",
    "                                  nn.ReLU())\n",
    "        \n",
    "        self.conv2 = nn.Sequential(nn.Conv2d(16, 32, 3, stride=2),\n",
    "                                  nn.MaxPool2d(2),\n",
    "                                  nn.ReLU())\n",
    "        \n",
    "        self.conv3 = nn.Sequential(nn.Conv2d(32, 64, 3, stride=2),\n",
    "                                   nn.ReLU())\n",
    "        \n",
    "        out = self.conv1(empty)\n",
    "        out = self.conv2(out)\n",
    "        units = self.conv3(out).numel()\n",
    "        print(\"units after conv\", units)\n",
    "        \n",
    "        self.fc = nn.Sequential(nn.Linear(units, units//2),\n",
    "                                nn.ReLU(),\n",
    "                                nn.Linear(units//2, units//4),\n",
    "                                nn.ReLU(),\n",
    "                                nn.Linear(units//4, outputs)) # <-- Returning predictions over classes\n",
    "        \n",
    "        #print(\"conv parameters: \", sum(p.numel() for p in self.conv.parameters()))\n",
    "        print(\"fc parameters: \", sum(p.numel() for p in self.fc.parameters()))\n",
    "    \n",
    "    def forward(self, x):\n",
    "        #x: batch, channel, height, width\n",
    "        batch_size = x.shape[0]\n",
    "        out = self.conv1(x)\n",
    "        out = self.conv2(out)\n",
    "        out = self.conv3(out)\n",
    "        out = out.reshape((batch_size,-1))\n",
    "        out = self.fc(out)\n",
    "        #print(out)\n",
    "        return out\n",
    "        \n",
    "    def load(self,path):\n",
    "        checkpoint = torch.load(path)\n",
    "        self.load_state_dict(checkpoint['model_state_dict'])\n",
    "        self.optimizer.load_state_dict(checkpoint['optimizer_state_dict'])\n",
    "        self.start_epoch = checkpoint['epoch']\n",
    "        \n",
    "    def save(self,epoch,path):\n",
    "        torch.save({\n",
    "            'epoch': epoch,\n",
    "            'model_state_dict': self.state_dict(),\n",
    "            'optimizer_state_dict': self.optimizer.state_dict()}, \n",
    "            path)\n",
    "        \n",
    "    def fit(self, device, epochs, optimizer, criterion):\n",
    "        self.train()\n",
    "        self.optimizer = optimizer\n",
    "        iter_no = 0\n",
    "        percent = 0\n",
    "        for epoch in range(self.start_epoch, epochs):\n",
    "            for i_batch, sampled_batch in tqdm_notebook(enumerate(self.dataloader),\n",
    "                                                       total=len(self.dataloader),\n",
    "                                                       desc= str(percent)):\n",
    "                #inputs and forward pass\n",
    "                images = sampled_batch['image'].to(device).float()\n",
    "                controls = sampled_batch['control'].to(device).long()\n",
    "                controls = torch.flatten(controls)\n",
    "                \n",
    "                #backwards pass\n",
    "                optimizer.zero_grad()\n",
    "                prediction = self(images)\n",
    "                #print(torch.argmax(prediction,dim=1))\n",
    "                #print\n",
    "                #print(controls)\n",
    "                loss = criterion(prediction, controls)\n",
    "                loss.backward()\n",
    "                optimizer.step()\n",
    "\n",
    "                iter_no += 1\n",
    "                if iter_no % self.report_period == 0:\n",
    "                    self.writer.add_scalar(\"Loss\", loss.item(), iter_no)\n",
    "                    print(\"saved to tensorboard\")\n",
    "                    self.save(epoch,\"snapshots/{:.3f}_model.pt\".format(loss.item()))\n",
    "\n",
    "            out = \"{0},{1}\\tLoss:{2}\\tAllocated:{3}GB\\tCached:{4}GB\\n\"\n",
    "            \"\"\"\n",
    "            print(out.format(str(epoch),\n",
    "                            str(iter_no),\n",
    "                            round(loss.item(),5),\n",
    "                             'na', 'na'\n",
    "                             #round(torch.cuda.memory_allocated(0)/1024**3,3),\n",
    "                             #round(torch.cuda.memory_allocated(0)/1024**3,3)\n",
    "                            ))\n",
    "            \"\"\"\n",
    "            score = self.score(device,self.dataset)\n",
    "            percent = round(score[1]/score[0],3)*100\n",
    "            total,correct = score\n",
    "            #print(correct)\n",
    "            #print(prediction)\n",
    "            #print(\"Accuracy: {}%\".format(correct/total*100))\n",
    "                \n",
    "    def score(self,device,dataset, single_batch = False):\n",
    "        self.eval()\n",
    "        total = 0\n",
    "        correct = 0\n",
    "        for i_batch, sampled_batch in enumerate(dataset.validloader):\n",
    "            images = sampled_batch['image'].to(device).float()\n",
    "            controls = sampled_batch['control'].to(device).long()\n",
    "            controls = torch.flatten(controls)\n",
    "            prediction = self(images)\n",
    "\n",
    "            maximum = torch.argmax(prediction,dim = 1)\n",
    "            shared = maximum == controls\n",
    "            shared = 1 * shared\n",
    "            correct += int(torch.sum(shared))\n",
    "            total += len(controls)\n",
    "            if single_batch:\n",
    "                return (total,correct)\n",
    "        return (total,correct)\n",
    "    \n",
    "if __name__ == \"__main__\":\n",
    "    if dataset.images.grayscale:\n",
    "        channels = 1\n",
    "    else:\n",
    "        channels = 3\n",
    "\n",
    "    net = ConvNet(channels, 21, dataset)"
   ]
  },
  {
   "cell_type": "code",
   "execution_count": 8,
   "metadata": {},
   "outputs": [
    {
     "name": "stdout",
     "output_type": "stream",
     "text": [
      "torch.Size([1, 21])\n",
      "torch.Size([16, 42, 159])\n",
      "<class 'torch.Size'>\n",
      "<class 'torch.Size'>\n",
      "<class 'torch.Size'>\n",
      "<class 'torch.Size'>\n",
      "<class 'torch.Size'>\n",
      "<class 'torch.Size'>\n",
      "<class 'torch.Size'>\n",
      "<class 'torch.Size'>\n",
      "<class 'torch.Size'>\n",
      "<class 'torch.Size'>\n",
      "<class 'torch.Size'>\n",
      "<class 'torch.Size'>\n",
      "<class 'torch.Size'>\n",
      "<class 'torch.Size'>\n",
      "<class 'torch.Size'>\n",
      "<class 'torch.Size'>\n",
      "torch.Size([32, 10, 39])\n",
      "torch.Size([64, 4, 19])\n"
     ]
    },
    {
     "data": {
      "image/png": "[encoded data removed]",
      "text/plain": [
       "<Figure size 432x288 with 16 Axes>"
      ]
     },
     "metadata": {
      "needs_background": "light"
     },
     "output_type": "display_data"
    },
    {
     "data": {
      "image/png": "[encoded data removed]",
      "text/plain": [
       "<Figure size 432x288 with 16 Axes>"
      ]
     },
     "metadata": {
      "needs_background": "light"
     },
     "output_type": "display_data"
    },
    {
     "data": {
      "image/png": "[encoded data removed]",
      "text/plain": [
       "<Figure size 432x288 with 16 Axes>"
      ]
     },
     "metadata": {
      "needs_background": "light"
     },
     "output_type": "display_data"
    }
   ],
   "source": [
    "if __name__ == \"__main__\":\n",
    "    device = torch.device('cuda' if torch.cuda.is_available() else 'cpu')\n",
    "    # Visualize feature maps\n",
    "    activation = {}\n",
    "    def get_activation(name):\n",
    "        def hook(model, input, output):\n",
    "            activation[name] = output.detach()\n",
    "        return hook\n",
    "\n",
    "    net.conv1.register_forward_hook(get_activation('conv1'))\n",
    "    net.conv2.register_forward_hook(get_activation('conv2'))\n",
    "    net.conv3.register_forward_hook(get_activation('conv3'))\n",
    "    \n",
    "    image = dataset[0]['image']\n",
    "    \n",
    "    image = torch.Tensor(image).to(device).float()\n",
    "    \n",
    "    image = image.reshape(1,3,170,640)\n",
    "    output = net(image)\n",
    "    \n",
    "    print(output.shape)\n",
    "    \n",
    "\n",
    "    act = activation['conv1'].squeeze()\n",
    "    print(act.shape)\n",
    "    fig, axarr = plt.subplots(nrows = 4, ncols = 4)\n",
    "    for x in range(4):\n",
    "        for y in range(4):\n",
    "            print(type(act[x].size))\n",
    "            axarr[y][x].imshow(act[4*x + y], cmap='gray')\n",
    "            \n",
    "    act = activation['conv2'].squeeze()\n",
    "    print(act.shape)\n",
    "    fig, axarr = plt.subplots(nrows = 4, ncols = 4)\n",
    "    for x in range(4):\n",
    "        for y in range(4):\n",
    "            axarr[y][x].imshow(act[4*x + y], cmap='gray')\n",
    "            \n",
    "    act = activation['conv3'].squeeze()\n",
    "    print(act.shape)\n",
    "    fig, axarr = plt.subplots(nrows = 4, ncols = 4)\n",
    "    for x in range(1):\n",
    "        for y in range(1):\n",
    "            axarr[y][x].imshow(act[4*x + y], cmap='gray')"
   ]
  },
  {
   "cell_type": "code",
   "execution_count": null,
   "metadata": {},
   "outputs": [],
   "source": []
  },
  {
   "cell_type": "code",
   "execution_count": null,
   "metadata": {},
   "outputs": [],
   "source": []
  }
 ],
 "metadata": {
  "kernelspec": {
   "display_name": "Python 3",
   "language": "python",
   "name": "python3"
  },
  "language_info": {
   "codemirror_mode": {
    "name": "ipython",
    "version": 3
   },
   "file_extension": ".py",
   "mimetype": "text/x-python",
   "name": "python",
   "nbconvert_exporter": "python",
   "pygments_lexer": "ipython3",
   "version": "3.7.6"
  }
 },
 "nbformat": 4,
 "nbformat_minor": 2
}
