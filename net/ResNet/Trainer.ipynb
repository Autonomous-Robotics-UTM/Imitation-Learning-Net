{
 "cells": [
  {
   "cell_type": "code",
   "execution_count": 12,
   "metadata": {},
   "outputs": [
    {
     "name": "stdout",
     "output_type": "stream",
     "text": [
      "using device cpu\n"
     ]
    }
   ],
   "source": [
    "import os\n",
    "import sys\n",
    "import torch\n",
    "from skimage import io, transform\n",
    "import numpy as np\n",
    "import matplotlib.pyplot as plt\n",
    "from sklearn.model_selection import train_test_split\n",
    "import torch.nn as nn\n",
    "import torch.optim as optim\n",
    "import math\n",
    "import scipy.stats as stats\n",
    "\n",
    "\n",
    "import import_ipynb\n",
    "from CustomDataset import ControlsDataset\n",
    "\n",
    "device = torch.device('cuda' if torch.cuda.is_available() else 'cpu')\n",
    "#device = 'cpu'\n",
    "torch.cuda.empty_cache()\n",
    "print('using device', device)\n"
   ]
  },
  {
   "cell_type": "code",
   "execution_count": 13,
   "metadata": {},
   "outputs": [
    {
     "name": "stdout",
     "output_type": "stream",
     "text": [
      "Total training stacks 44\n",
      "Total validation stacks 11\n"
     ]
    }
   ],
   "source": [
    "dataset = ControlsDataset()\n",
    "dataset.labels.num_categories = 21\n",
    "dataset.labels.transform.categorize(1.05, -1.05, 21)\n",
    "dataset.labels.infotype = \"Category\"\n",
    "dataset.make_dataloaders()"
   ]
  },
  {
   "cell_type": "code",
   "execution_count": 14,
   "metadata": {},
   "outputs": [
    {
     "data": {
      "text/plain": [
       "1100"
      ]
     },
     "execution_count": 14,
     "metadata": {},
     "output_type": "execute_result"
    }
   ],
   "source": [
    "len(dataset)"
   ]
  },
  {
   "cell_type": "code",
   "execution_count": 15,
   "metadata": {},
   "outputs": [],
   "source": [
    "import torchvision.models as models\n",
    "resnet50 = models.resnet50(pretrained=True)"
   ]
  },
  {
   "cell_type": "code",
   "execution_count": 16,
   "metadata": {},
   "outputs": [],
   "source": [
    "resnet50 = models.resnet50(pretrained=True)\n",
    "for param in resnet50.parameters():\n",
    "    param.requires_grad = False\n",
    "\n",
    "resnet50.fc = nn.Sequential(nn.Linear(2048, 21))\n",
    "\n",
    "resnet50 = resnet50.to(device)"
   ]
  },
  {
   "cell_type": "code",
   "execution_count": 17,
   "metadata": {},
   "outputs": [],
   "source": [
    "counts = dataset.labels.dataframe.groupby('Category')['ID'].count()\n",
    "counts = np.array(counts)\n",
    "ratio = max(counts)/counts"
   ]
  },
  {
   "cell_type": "code",
   "execution_count": 18,
   "metadata": {},
   "outputs": [
    {
     "name": "stdout",
     "output_type": "stream",
     "text": [
      "(3,)\n",
      "(4, 3)\n",
      "[[0. 0. 0. 0.]\n",
      " [1. 1. 1. 1.]\n",
      " [2. 2. 2. 2.]]\n"
     ]
    }
   ],
   "source": [
    "A = np.ones((4,3))\n",
    "B = np.arange(3)\n",
    "print(B.shape)\n",
    "print(A.shape)\n",
    "\n",
    "R = np.multiply(B,A).T\n",
    "print(R)"
   ]
  },
  {
   "cell_type": "code",
   "execution_count": 19,
   "metadata": {},
   "outputs": [
    {
     "name": "stdout",
     "output_type": "stream",
     "text": [
      "(20, 21)\n",
      "(20, 1)\n"
     ]
    },
    {
     "data": {
      "image/png": "[encoded data removed]",
      "text/plain": [
       "<Figure size 432x288 with 1 Axes>"
      ]
     },
     "metadata": {
      "needs_background": "light"
     },
     "output_type": "display_data"
    },
    {
     "name": "stdout",
     "output_type": "stream",
     "text": [
      "tensor([ 14.1481,  84.8889, 254.6667, 109.1429, 127.3333,  47.7500,  22.4706,\n",
      "         20.1053,  16.6087,   8.8837,   1.0000,  34.7273, 191.0000,  63.6667])\n"
     ]
    }
   ],
   "source": [
    "\n",
    "\n",
    "\n",
    "batch_size = 20\n",
    "index = 10\n",
    "controls = np.arange(batch_size).reshape((batch_size,1))\n",
    "mu = controls\n",
    "variance = 2\n",
    "sigma = np.sqrt(variance)\n",
    "x = np.zeros((batch_size,21))\n",
    "x[:] = np.linspace(0, 21, 21)\n",
    "print(x.shape)\n",
    "print(mu.shape)\n",
    "pdf = stats.norm.pdf(x, mu, sigma)\n",
    "maximum = 0.27\n",
    "pdf = (maximum-pdf)/maximum\n",
    "\n",
    "plt.xlim([0,21])\n",
    "plt.ylim([0,1.2])\n",
    "plt.plot(x[0], pdf[0])\n",
    "plt.title(\"Weights Representation\")\n",
    "plt.xlabel(\"Categories\")\n",
    "plt.ylabel(\"weights\")\n",
    "plt.show()\n",
    "\n",
    "weights = ratio\n",
    "weights = torch.Tensor(weights).to(device)\n",
    "print(weights)"
   ]
  },
  {
   "cell_type": "code",
   "execution_count": 20,
   "metadata": {},
   "outputs": [],
   "source": [
    "epochs = 30\n",
    "optimizer = optim.Adam(resnet50.parameters())\n",
    "#criterion = nn.CrossEntropyLoss(weight=weights,reduction='none') # Changed from Mean-Squared to Cross-Entro"
   ]
  },
  {
   "cell_type": "code",
   "execution_count": 21,
   "metadata": {},
   "outputs": [],
   "source": [
    "def score(model,device,dataset,single_batch = False):\n",
    "    model.eval()\n",
    "    total = 0\n",
    "    correct = 0\n",
    "    for i_batch, sampled_batch in enumerate(dataset.validloader):\n",
    "        images = sampled_batch['image'].to(device).float()\n",
    "        controls = sampled_batch['control'].to(device).long()\n",
    "        controls = torch.flatten(controls)\n",
    "        prediction = model(images)\n",
    "\n",
    "        maximum = torch.argmax(prediction,dim = 1)\n",
    "        shared = maximum == controls\n",
    "        shared = 1 * shared\n",
    "        correct += int(torch.sum(shared))\n",
    "        total += len(controls)\n",
    "        if single_batch:\n",
    "            return (total,correct)\n",
    "    return (total,correct)"
   ]
  },
  {
   "cell_type": "code",
   "execution_count": 23,
   "metadata": {},
   "outputs": [
    {
     "data": {
      "application/vnd.jupyter.widget-view+json": {
       "model_id": "6ee0dc98847745f3b6d4c577bf3b4182",
       "version_major": 2,
       "version_minor": 0
      },
      "text/plain": [
       "HBox(children=(FloatProgress(value=0.0, description='0', max=44.0, style=ProgressStyle(description_width='init…"
      ]
     },
     "metadata": {},
     "output_type": "display_data"
    },
    {
     "name": "stdout",
     "output_type": "stream",
     "text": [
      "saved to tensorboard\n",
      "saved to tensorboard\n",
      "\n",
      "0,44\tLoss:0.05372\tAllocated:naGB\tCached:naGB\n",
      "\n",
      "Accuracy: 0.0%\n"
     ]
    },
    {
     "data": {
      "application/vnd.jupyter.widget-view+json": {
       "model_id": "11ab7ebd35704f8496b820a9bc64249c",
       "version_major": 2,
       "version_minor": 0
      },
      "text/plain": [
       "HBox(children=(FloatProgress(value=0.0, description='0.0', max=44.0, style=ProgressStyle(description_width='in…"
      ]
     },
     "metadata": {},
     "output_type": "display_data"
    },
    {
     "name": "stdout",
     "output_type": "stream",
     "text": [
      "saved to tensorboard\n",
      "saved to tensorboard\n",
      "\n",
      "1,88\tLoss:0.06356\tAllocated:naGB\tCached:naGB\n",
      "\n",
      "Accuracy: 15.0%\n"
     ]
    },
    {
     "data": {
      "application/vnd.jupyter.widget-view+json": {
       "model_id": "f9eefbdf5c094f78b93a645ff2928a41",
       "version_major": 2,
       "version_minor": 0
      },
      "text/plain": [
       "HBox(children=(FloatProgress(value=0.0, description='15.0', max=44.0, style=ProgressStyle(description_width='i…"
      ]
     },
     "metadata": {},
     "output_type": "display_data"
    },
    {
     "name": "stdout",
     "output_type": "stream",
     "text": [
      "saved to tensorboard\n",
      "saved to tensorboard\n",
      "\n",
      "2,132\tLoss:0.05557\tAllocated:naGB\tCached:naGB\n",
      "\n",
      "Accuracy: 0.0%\n"
     ]
    },
    {
     "data": {
      "application/vnd.jupyter.widget-view+json": {
       "model_id": "8db3fdf119a84249829ca0097e538cec",
       "version_major": 2,
       "version_minor": 0
      },
      "text/plain": [
       "HBox(children=(FloatProgress(value=0.0, description='0.0', max=44.0, style=ProgressStyle(description_width='in…"
      ]
     },
     "metadata": {},
     "output_type": "display_data"
    },
    {
     "name": "stdout",
     "output_type": "stream",
     "text": [
      "saved to tensorboard\n",
      "saved to tensorboard\n",
      "\n",
      "3,176\tLoss:0.06133\tAllocated:naGB\tCached:naGB\n",
      "\n",
      "Accuracy: 0.0%\n"
     ]
    },
    {
     "data": {
      "application/vnd.jupyter.widget-view+json": {
       "model_id": "86486f04b1d84ca3b3b5c78192ef28e5",
       "version_major": 2,
       "version_minor": 0
      },
      "text/plain": [
       "HBox(children=(FloatProgress(value=0.0, description='0.0', max=44.0, style=ProgressStyle(description_width='in…"
      ]
     },
     "metadata": {},
     "output_type": "display_data"
    },
    {
     "name": "stdout",
     "output_type": "stream",
     "text": [
      "saved to tensorboard\n",
      "saved to tensorboard\n",
      "saved to tensorboard\n",
      "\n",
      "4,220\tLoss:0.05483\tAllocated:naGB\tCached:naGB\n",
      "\n",
      "Accuracy: 15.0%\n"
     ]
    },
    {
     "data": {
      "application/vnd.jupyter.widget-view+json": {
       "model_id": "815bd583174f4fb8b030884553c1cc84",
       "version_major": 2,
       "version_minor": 0
      },
      "text/plain": [
       "HBox(children=(FloatProgress(value=0.0, description='15.0', max=44.0, style=ProgressStyle(description_width='i…"
      ]
     },
     "metadata": {},
     "output_type": "display_data"
    },
    {
     "name": "stdout",
     "output_type": "stream",
     "text": [
      "saved to tensorboard\n",
      "saved to tensorboard\n",
      "\n",
      "5,264\tLoss:0.05322\tAllocated:naGB\tCached:naGB\n",
      "\n",
      "Accuracy: 5.0%\n"
     ]
    },
    {
     "data": {
      "application/vnd.jupyter.widget-view+json": {
       "model_id": "e421b0b8beef418498ca67a604da3555",
       "version_major": 2,
       "version_minor": 0
      },
      "text/plain": [
       "HBox(children=(FloatProgress(value=0.0, description='5.0', max=44.0, style=ProgressStyle(description_width='in…"
      ]
     },
     "metadata": {},
     "output_type": "display_data"
    },
    {
     "name": "stdout",
     "output_type": "stream",
     "text": [
      "saved to tensorboard\n",
      "saved to tensorboard\n",
      "\n",
      "6,308\tLoss:0.04841\tAllocated:naGB\tCached:naGB\n",
      "\n",
      "Accuracy: 0.0%\n"
     ]
    },
    {
     "data": {
      "application/vnd.jupyter.widget-view+json": {
       "model_id": "7a0c85f387eb44dc89de38bc3a021df0",
       "version_major": 2,
       "version_minor": 0
      },
      "text/plain": [
       "HBox(children=(FloatProgress(value=0.0, description='0.0', max=44.0, style=ProgressStyle(description_width='in…"
      ]
     },
     "metadata": {},
     "output_type": "display_data"
    },
    {
     "name": "stdout",
     "output_type": "stream",
     "text": [
      "saved to tensorboard\n",
      "saved to tensorboard\n",
      "\n",
      "7,352\tLoss:0.05407\tAllocated:naGB\tCached:naGB\n",
      "\n",
      "Accuracy: 0.0%\n"
     ]
    },
    {
     "data": {
      "application/vnd.jupyter.widget-view+json": {
       "model_id": "babfb7ef252b4fceb200f5c8f29f9775",
       "version_major": 2,
       "version_minor": 0
      },
      "text/plain": [
       "HBox(children=(FloatProgress(value=0.0, description='0.0', max=44.0, style=ProgressStyle(description_width='in…"
      ]
     },
     "metadata": {},
     "output_type": "display_data"
    },
    {
     "name": "stdout",
     "output_type": "stream",
     "text": [
      "saved to tensorboard\n",
      "saved to tensorboard\n",
      "\n",
      "8,396\tLoss:0.04845\tAllocated:naGB\tCached:naGB\n",
      "\n",
      "Accuracy: 0.0%\n"
     ]
    },
    {
     "data": {
      "application/vnd.jupyter.widget-view+json": {
       "model_id": "b8c0bacc45c040bc981198903a8f3df1",
       "version_major": 2,
       "version_minor": 0
      },
      "text/plain": [
       "HBox(children=(FloatProgress(value=0.0, description='0.0', max=44.0, style=ProgressStyle(description_width='in…"
      ]
     },
     "metadata": {},
     "output_type": "display_data"
    },
    {
     "name": "stdout",
     "output_type": "stream",
     "text": [
      "saved to tensorboard\n",
      "saved to tensorboard\n",
      "saved to tensorboard\n",
      "\n",
      "9,440\tLoss:0.0521\tAllocated:naGB\tCached:naGB\n",
      "\n",
      "Accuracy: 30.0%\n"
     ]
    },
    {
     "data": {
      "application/vnd.jupyter.widget-view+json": {
       "model_id": "2b660e350e724f42a59e871657a0ba49",
       "version_major": 2,
       "version_minor": 0
      },
      "text/plain": [
       "HBox(children=(FloatProgress(value=0.0, description='30.0', max=44.0, style=ProgressStyle(description_width='i…"
      ]
     },
     "metadata": {},
     "output_type": "display_data"
    },
    {
     "name": "stdout",
     "output_type": "stream",
     "text": [
      "saved to tensorboard\n",
      "saved to tensorboard\n",
      "\n",
      "10,484\tLoss:0.05979\tAllocated:naGB\tCached:naGB\n",
      "\n",
      "Accuracy: 5.0%\n"
     ]
    },
    {
     "data": {
      "application/vnd.jupyter.widget-view+json": {
       "model_id": "74d56e69ebed42cc9dcfb01c7517058b",
       "version_major": 2,
       "version_minor": 0
      },
      "text/plain": [
       "HBox(children=(FloatProgress(value=0.0, description='5.0', max=44.0, style=ProgressStyle(description_width='in…"
      ]
     },
     "metadata": {},
     "output_type": "display_data"
    },
    {
     "name": "stdout",
     "output_type": "stream",
     "text": [
      "saved to tensorboard\n",
      "saved to tensorboard\n",
      "\n",
      "11,528\tLoss:0.05779\tAllocated:naGB\tCached:naGB\n",
      "\n",
      "Accuracy: 40.0%\n"
     ]
    },
    {
     "data": {
      "application/vnd.jupyter.widget-view+json": {
       "model_id": "804f9ea8b34746bcb37c5f67ba4126ec",
       "version_major": 2,
       "version_minor": 0
      },
      "text/plain": [
       "HBox(children=(FloatProgress(value=0.0, description='40.0', max=44.0, style=ProgressStyle(description_width='i…"
      ]
     },
     "metadata": {},
     "output_type": "display_data"
    },
    {
     "name": "stdout",
     "output_type": "stream",
     "text": [
      "saved to tensorboard\n",
      "saved to tensorboard\n",
      "\n",
      "12,572\tLoss:0.06406\tAllocated:naGB\tCached:naGB\n",
      "\n",
      "Accuracy: 10.0%\n"
     ]
    },
    {
     "data": {
      "application/vnd.jupyter.widget-view+json": {
       "model_id": "65293fed81f14d768d29cdbf52c92ef0",
       "version_major": 2,
       "version_minor": 0
      },
      "text/plain": [
       "HBox(children=(FloatProgress(value=0.0, description='10.0', max=44.0, style=ProgressStyle(description_width='i…"
      ]
     },
     "metadata": {},
     "output_type": "display_data"
    },
    {
     "name": "stdout",
     "output_type": "stream",
     "text": [
      "saved to tensorboard\n",
      "saved to tensorboard\n",
      "\n",
      "13,616\tLoss:0.06369\tAllocated:naGB\tCached:naGB\n",
      "\n",
      "Accuracy: 5.0%\n"
     ]
    },
    {
     "data": {
      "application/vnd.jupyter.widget-view+json": {
       "model_id": "2850a973f9344871bf0e139ce355fea1",
       "version_major": 2,
       "version_minor": 0
      },
      "text/plain": [
       "HBox(children=(FloatProgress(value=0.0, description='5.0', max=44.0, style=ProgressStyle(description_width='in…"
      ]
     },
     "metadata": {},
     "output_type": "display_data"
    },
    {
     "name": "stdout",
     "output_type": "stream",
     "text": [
      "saved to tensorboard\n",
      "saved to tensorboard\n",
      "saved to tensorboard\n",
      "\n",
      "14,660\tLoss:0.06581\tAllocated:naGB\tCached:naGB\n",
      "\n",
      "Accuracy: 0.0%\n"
     ]
    },
    {
     "data": {
      "application/vnd.jupyter.widget-view+json": {
       "model_id": "2cd917c6739e4178834a7288fb069cbb",
       "version_major": 2,
       "version_minor": 0
      },
      "text/plain": [
       "HBox(children=(FloatProgress(value=0.0, description='0.0', max=44.0, style=ProgressStyle(description_width='in…"
      ]
     },
     "metadata": {},
     "output_type": "display_data"
    },
    {
     "name": "stdout",
     "output_type": "stream",
     "text": [
      "saved to tensorboard\n",
      "saved to tensorboard\n",
      "\n",
      "15,704\tLoss:0.04396\tAllocated:naGB\tCached:naGB\n",
      "\n",
      "Accuracy: 0.0%\n"
     ]
    },
    {
     "data": {
      "application/vnd.jupyter.widget-view+json": {
       "model_id": "876ac6429a79410785398597fe14f692",
       "version_major": 2,
       "version_minor": 0
      },
      "text/plain": [
       "HBox(children=(FloatProgress(value=0.0, description='0.0', max=44.0, style=ProgressStyle(description_width='in…"
      ]
     },
     "metadata": {},
     "output_type": "display_data"
    },
    {
     "name": "stdout",
     "output_type": "stream",
     "text": [
      "saved to tensorboard\n",
      "saved to tensorboard\n",
      "\n",
      "16,748\tLoss:0.06323\tAllocated:naGB\tCached:naGB\n",
      "\n",
      "Accuracy: 0.0%\n"
     ]
    },
    {
     "data": {
      "application/vnd.jupyter.widget-view+json": {
       "model_id": "da3ccd111a23431f94462c4865ec488a",
       "version_major": 2,
       "version_minor": 0
      },
      "text/plain": [
       "HBox(children=(FloatProgress(value=0.0, description='0.0', max=44.0, style=ProgressStyle(description_width='in…"
      ]
     },
     "metadata": {},
     "output_type": "display_data"
    },
    {
     "name": "stdout",
     "output_type": "stream",
     "text": [
      "saved to tensorboard\n",
      "saved to tensorboard\n",
      "\n",
      "17,792\tLoss:0.0585\tAllocated:naGB\tCached:naGB\n",
      "\n",
      "Accuracy: 5.0%\n"
     ]
    },
    {
     "data": {
      "application/vnd.jupyter.widget-view+json": {
       "model_id": "7d97e1991946461380c3c08c59ab7c42",
       "version_major": 2,
       "version_minor": 0
      },
      "text/plain": [
       "HBox(children=(FloatProgress(value=0.0, description='5.0', max=44.0, style=ProgressStyle(description_width='in…"
      ]
     },
     "metadata": {},
     "output_type": "display_data"
    },
    {
     "name": "stdout",
     "output_type": "stream",
     "text": [
      "saved to tensorboard\n",
      "saved to tensorboard\n",
      "\n",
      "18,836\tLoss:0.05977\tAllocated:naGB\tCached:naGB\n",
      "\n",
      "Accuracy: 5.0%\n"
     ]
    },
    {
     "data": {
      "application/vnd.jupyter.widget-view+json": {
       "model_id": "483b2db8be7f46b49f8d2bb98596b545",
       "version_major": 2,
       "version_minor": 0
      },
      "text/plain": [
       "HBox(children=(FloatProgress(value=0.0, description='5.0', max=44.0, style=ProgressStyle(description_width='in…"
      ]
     },
     "metadata": {},
     "output_type": "display_data"
    },
    {
     "name": "stdout",
     "output_type": "stream",
     "text": [
      "saved to tensorboard\n",
      "saved to tensorboard\n",
      "saved to tensorboard\n",
      "\n",
      "19,880\tLoss:0.05835\tAllocated:naGB\tCached:naGB\n",
      "\n",
      "Accuracy: 0.0%\n"
     ]
    },
    {
     "data": {
      "application/vnd.jupyter.widget-view+json": {
       "model_id": "2fdb7e14d5504ff6ba8d96b2acfae3a8",
       "version_major": 2,
       "version_minor": 0
      },
      "text/plain": [
       "HBox(children=(FloatProgress(value=0.0, description='0.0', max=44.0, style=ProgressStyle(description_width='in…"
      ]
     },
     "metadata": {},
     "output_type": "display_data"
    },
    {
     "name": "stdout",
     "output_type": "stream",
     "text": [
      "saved to tensorboard\n",
      "saved to tensorboard\n",
      "\n",
      "20,924\tLoss:0.04999\tAllocated:naGB\tCached:naGB\n",
      "\n",
      "Accuracy: 5.0%\n"
     ]
    },
    {
     "data": {
      "application/vnd.jupyter.widget-view+json": {
       "model_id": "7d4da39d50024ac996246003bfce3925",
       "version_major": 2,
       "version_minor": 0
      },
      "text/plain": [
       "HBox(children=(FloatProgress(value=0.0, description='5.0', max=44.0, style=ProgressStyle(description_width='in…"
      ]
     },
     "metadata": {},
     "output_type": "display_data"
    },
    {
     "name": "stdout",
     "output_type": "stream",
     "text": [
      "saved to tensorboard\n",
      "saved to tensorboard\n",
      "\n",
      "21,968\tLoss:0.07775\tAllocated:naGB\tCached:naGB\n",
      "\n",
      "Accuracy: 0.0%\n"
     ]
    },
    {
     "data": {
      "application/vnd.jupyter.widget-view+json": {
       "model_id": "a8205e495c134510aabd0f85fbda52b1",
       "version_major": 2,
       "version_minor": 0
      },
      "text/plain": [
       "HBox(children=(FloatProgress(value=0.0, description='0.0', max=44.0, style=ProgressStyle(description_width='in…"
      ]
     },
     "metadata": {},
     "output_type": "display_data"
    },
    {
     "name": "stdout",
     "output_type": "stream",
     "text": [
      "saved to tensorboard\n",
      "saved to tensorboard\n",
      "\n",
      "22,1012\tLoss:0.05482\tAllocated:naGB\tCached:naGB\n",
      "\n",
      "Accuracy: 0.0%\n"
     ]
    },
    {
     "data": {
      "application/vnd.jupyter.widget-view+json": {
       "model_id": "b6963af6df3f4988a69b3a2d6e5e4dea",
       "version_major": 2,
       "version_minor": 0
      },
      "text/plain": [
       "HBox(children=(FloatProgress(value=0.0, description='0.0', max=44.0, style=ProgressStyle(description_width='in…"
      ]
     },
     "metadata": {},
     "output_type": "display_data"
    },
    {
     "name": "stdout",
     "output_type": "stream",
     "text": [
      "saved to tensorboard\n",
      "saved to tensorboard\n",
      "\n",
      "23,1056\tLoss:0.0517\tAllocated:naGB\tCached:naGB\n",
      "\n",
      "Accuracy: 0.0%\n"
     ]
    },
    {
     "data": {
      "application/vnd.jupyter.widget-view+json": {
       "model_id": "363a4e4a98bf418b96ff16cedf655e05",
       "version_major": 2,
       "version_minor": 0
      },
      "text/plain": [
       "HBox(children=(FloatProgress(value=0.0, description='0.0', max=44.0, style=ProgressStyle(description_width='in…"
      ]
     },
     "metadata": {},
     "output_type": "display_data"
    },
    {
     "name": "stdout",
     "output_type": "stream",
     "text": [
      "saved to tensorboard\n",
      "saved to tensorboard\n",
      "saved to tensorboard\n",
      "\n",
      "24,1100\tLoss:0.04847\tAllocated:naGB\tCached:naGB\n",
      "\n",
      "Accuracy: 55.00000000000001%\n"
     ]
    },
    {
     "data": {
      "application/vnd.jupyter.widget-view+json": {
       "model_id": "a4fc8c6939d6442da49bf0ba6c2a9742",
       "version_major": 2,
       "version_minor": 0
      },
      "text/plain": [
       "HBox(children=(FloatProgress(value=0.0, description='55.00000000000001', max=44.0, style=ProgressStyle(descrip…"
      ]
     },
     "metadata": {},
     "output_type": "display_data"
    },
    {
     "name": "stdout",
     "output_type": "stream",
     "text": [
      "saved to tensorboard\n",
      "saved to tensorboard\n",
      "\n",
      "25,1144\tLoss:0.06055\tAllocated:naGB\tCached:naGB\n",
      "\n",
      "Accuracy: 65.0%\n"
     ]
    },
    {
     "data": {
      "application/vnd.jupyter.widget-view+json": {
       "model_id": "3a51f7073cb2473296762d50bbc3257a",
       "version_major": 2,
       "version_minor": 0
      },
      "text/plain": [
       "HBox(children=(FloatProgress(value=0.0, description='65.0', max=44.0, style=ProgressStyle(description_width='i…"
      ]
     },
     "metadata": {},
     "output_type": "display_data"
    },
    {
     "name": "stdout",
     "output_type": "stream",
     "text": [
      "saved to tensorboard\n",
      "saved to tensorboard\n",
      "\n",
      "26,1188\tLoss:0.04941\tAllocated:naGB\tCached:naGB\n",
      "\n",
      "Accuracy: 5.0%\n"
     ]
    },
    {
     "data": {
      "application/vnd.jupyter.widget-view+json": {
       "model_id": "a8ff00d9a21042eba75ff68c2f737d4a",
       "version_major": 2,
       "version_minor": 0
      },
      "text/plain": [
       "HBox(children=(FloatProgress(value=0.0, description='5.0', max=44.0, style=ProgressStyle(description_width='in…"
      ]
     },
     "metadata": {},
     "output_type": "display_data"
    },
    {
     "name": "stdout",
     "output_type": "stream",
     "text": [
      "saved to tensorboard\n",
      "saved to tensorboard\n",
      "\n",
      "27,1232\tLoss:0.06245\tAllocated:naGB\tCached:naGB\n",
      "\n",
      "Accuracy: 10.0%\n"
     ]
    },
    {
     "data": {
      "application/vnd.jupyter.widget-view+json": {
       "model_id": "d51c0bf577354eb0a2eda8fa7a27e920",
       "version_major": 2,
       "version_minor": 0
      },
      "text/plain": [
       "HBox(children=(FloatProgress(value=0.0, description='10.0', max=44.0, style=ProgressStyle(description_width='i…"
      ]
     },
     "metadata": {},
     "output_type": "display_data"
    },
    {
     "name": "stdout",
     "output_type": "stream",
     "text": [
      "saved to tensorboard\n",
      "saved to tensorboard\n",
      "\n",
      "28,1276\tLoss:0.03937\tAllocated:naGB\tCached:naGB\n",
      "\n",
      "Accuracy: 0.0%\n"
     ]
    },
    {
     "data": {
      "application/vnd.jupyter.widget-view+json": {
       "model_id": "e2b3718af49c4ba6aaf98f78b1634263",
       "version_major": 2,
       "version_minor": 0
      },
      "text/plain": [
       "HBox(children=(FloatProgress(value=0.0, description='0.0', max=44.0, style=ProgressStyle(description_width='in…"
      ]
     },
     "metadata": {},
     "output_type": "display_data"
    },
    {
     "name": "stdout",
     "output_type": "stream",
     "text": [
      "saved to tensorboard\n",
      "saved to tensorboard\n",
      "saved to tensorboard\n",
      "\n",
      "29,1320\tLoss:0.04176\tAllocated:naGB\tCached:naGB\n",
      "\n",
      "Accuracy: 80.0%\n"
     ]
    }
   ],
   "source": [
    "from tqdm.notebook import tqdm_notebook\n",
    "resnet50.train()\n",
    "iter_no = 0\n",
    "report_period = 20\n",
    "percent = 0\n",
    "for epoch in range(epochs):\n",
    "    for i_batch, sampled_batch in tqdm_notebook(enumerate(dataset.dataloader),\n",
    "                                                total=len(dataset.dataloader),\n",
    "                                                desc= str(percent)):\n",
    "        #inputs and forward pass\n",
    "        images = sampled_batch['image'].to(device).float()\n",
    "        controls = sampled_batch['control'].to(device).long()\n",
    "        controls = torch.flatten(controls)\n",
    "\n",
    "        #backwards pass\n",
    "        optimizer.zero_grad()\n",
    "        prediction = resnet50(images)\n",
    "        #print(torch.argmax(prediction,dim=1))\n",
    "        #print\n",
    "        #print(controls)\n",
    "        \n",
    "        batch_size = 20\n",
    "        index = 10\n",
    "        mu = controls.reshape((batch_size,1))\n",
    "        variance = 2\n",
    "        sigma = np.sqrt(variance)\n",
    "        x = np.zeros((batch_size,21))\n",
    "        x[:] = np.linspace(0, 21, 21)\n",
    "        #print(x.shape)\n",
    "        #print(mu.shape)\n",
    "        pdf = stats.norm.pdf(x, mu, sigma)\n",
    "        maximum = 0.27\n",
    "        inv = (maximum-pdf)/maximum\n",
    "        inv = torch.Tensor(inv).to(device)\n",
    "        \n",
    "        prediction = torch.abs(prediction)\n",
    "        \n",
    "        #loss = criterion(prediction, controls)\n",
    "        loss = torch.mean(prediction*inv)\n",
    "        loss.backward()\n",
    "        optimizer.step()\n",
    "\n",
    "        iter_no += 1\n",
    "        if iter_no % report_period == 0:\n",
    "            #self.writer.add_scalar(\"Loss\", loss.item(), iter_no)\n",
    "            print(\"saved to tensorboard\")\n",
    "            #self.save(epoch,\"snapshots/{:.3f}_model.pt\".format(loss.item()))\n",
    "\n",
    "    out = \"{0},{1}\\tLoss:{2}\\tAllocated:{3}GB\\tCached:{4}GB\\n\"\n",
    "    print(out.format(str(epoch),\n",
    "                    str(iter_no),\n",
    "                    round(loss.item(),5),\n",
    "                     'na', 'na'\n",
    "                     #round(torch.cuda.memory_allocated(0)/1024**3,3),\n",
    "                     #round(torch.cuda.memory_allocated(0)/1024**3,3)\n",
    "                    ))\n",
    "    epoch_score = score(resnet50,device,dataset,True)\n",
    "    total,correct = epoch_score\n",
    "    percent = round(epoch_score[1]/epoch_score[0],3)*100\n",
    "    #print(correct)\n",
    "    #print(prediction)\n",
    "    print(\"Accuracy: {}%\".format(correct/total*100))"
   ]
  },
  {
   "cell_type": "code",
   "execution_count": null,
   "metadata": {},
   "outputs": [],
   "source": [
    "def save(epoch,model,path):\n",
    "        torch.save({\n",
    "            'epoch': epoch,\n",
    "            'model_state_dict': model.state_dict()},\n",
    "            path)"
   ]
  },
  {
   "cell_type": "code",
   "execution_count": null,
   "metadata": {},
   "outputs": [],
   "source": [
    "save(100,resnet50,\"resnet.pt\")"
   ]
  },
  {
   "cell_type": "code",
   "execution_count": null,
   "metadata": {},
   "outputs": [],
   "source": []
  }
 ],
 "metadata": {
  "kernelspec": {
   "display_name": "Python 3",
   "language": "python",
   "name": "python3"
  },
  "language_info": {
   "codemirror_mode": {
    "name": "ipython",
    "version": 3
   },
   "file_extension": ".py",
   "mimetype": "text/x-python",
   "name": "python",
   "nbconvert_exporter": "python",
   "pygments_lexer": "ipython3",
   "version": "3.7.6"
  }
 },
 "nbformat": 4,
 "nbformat_minor": 2
}
