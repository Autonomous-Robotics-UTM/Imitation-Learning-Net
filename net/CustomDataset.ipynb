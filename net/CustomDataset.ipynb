{
 "cells": [
  {
   "cell_type": "code",
   "execution_count": 6,
   "metadata": {},
   "outputs": [],
   "source": [
    "import os\n",
    "import torch\n",
    "import pandas as pd\n",
    "from skimage import io, transform\n",
    "import numpy as np\n",
    "import matplotlib.pyplot as plt\n",
    "from torch.utils.data import Dataset, DataLoader\n",
    "import math\n",
    "\n",
    "# Ignore warnings\n",
    "import warnings\n",
    "warnings.filterwarnings(\"ignore\")\n",
    "\n",
    "plt.ion()   # interactive mode\n"
   ]
  },
  {
   "cell_type": "code",
   "execution_count": 7,
   "metadata": {},
   "outputs": [
    {
     "name": "stdout",
     "output_type": "stream",
     "text": [
      "[[-1.05, -0.95], [-0.95, -0.85], [-0.85, -0.75], [-0.75, -0.65], [-0.65, -0.55], [-0.55, -0.45], [-0.45, -0.35], [-0.35, -0.25], [-0.25, -0.15], [-0.15, -0.05], [-0.05, 0.05], [0.05, 0.15], [0.15, 0.25], [0.25, 0.35], [0.35, 0.45], [0.45, 0.55], [0.55, 0.65], [0.65, 0.75], [0.75, 0.85], [0.85, 0.95], [0.95, 1.05]]\n",
      "21\n"
     ]
    }
   ],
   "source": [
    "# Defining Classes\n",
    "num_range = np.linspace(-1.05,1.05,22)\n",
    "classes = [[round(num_range[i],3), round(num_range[i+1],3)] for i in range(len(num_range)-1)]\n",
    "\n",
    "if __name__ == \"__main__\":\n",
    "    # classes = [[(i + 5)/10,(i+1)/10] for i in range(-10,10,1)]\n",
    "    interval = 2/len(classes)\n",
    "    print(classes)\n",
    "    print(len(classes))"
   ]
  },
  {
   "cell_type": "code",
   "execution_count": 8,
   "metadata": {},
   "outputs": [
    {
     "name": "stdout",
     "output_type": "stream",
     "text": [
      "0\n",
      "1\n",
      "1\n",
      "20\n"
     ]
    }
   ],
   "source": [
    "def category(angle,minimum,maximum,num_categories):\n",
    "    if angle == maximum:\n",
    "        return num_categories-1\n",
    "    scale = (maximum-minimum)/num_categories\n",
    "    return math.floor(1/scale*(angle-minimum))\n",
    "\n",
    "if __name__ == \"__main__\":\n",
    "    print(category(-1.05,-1.05,1.05,21))\n",
    "    print(category(-0.95000000000000001,-1.05,1.05,21))\n",
    "    print(category(-0.95,-1.05,1.05,21))\n",
    "    print(category(1.05,-1.05,1.05,21))"
   ]
  },
  {
   "cell_type": "code",
   "execution_count": 9,
   "metadata": {},
   "outputs": [],
   "source": [
    "class ControlsDataset(Dataset):\n",
    "    \"\"\"Dataset that maps camera images into steering angle\"\"\"\n",
    "    def __init__(self, stack_size = 1 ,img_folder = 'data/', csv_path='data/data.csv', \n",
    "                 classes = classes):\n",
    "        \n",
    "        #stack of images through time (ex. last 5 images taken)\n",
    "        self.stack_size = stack_size\n",
    "        self.img_folder = img_folder\n",
    "        # index_col = 0 so panda does not choose its own indexing\n",
    "        self.classes = classes\n",
    "        self.data_frame = pd.read_csv(csv_path)\n",
    "            \n",
    "    def __len__(self):\n",
    "        return len(self.data_frame) - self.stack_size\n",
    "    \n",
    "    def __getitem__(self, idx):\n",
    "        img_filenames = [\"{0}{1:06d}.jpg\".format(self.img_folder, i) \n",
    "                            for i in range(idx, idx+self.stack_size)]\n",
    "        imgs = [io.imread(img_filename).transpose((2,0,1)) for img_filename in img_filenames]\n",
    "        img_stack = np.concatenate(imgs, axis=0)\n",
    "        \n",
    "        # use the latest image as the control\n",
    "        index = idx+self.stack_size\n",
    "        num = self.data_frame.iloc[index][\"Angle\"]\n",
    "        \n",
    "        control = num\n",
    "        control = np.array([control])\n",
    "        sample = {'image': img_stack, \n",
    "                  'control': control}\n",
    "        \n",
    "        return sample\n",
    "    \n",
    "    def convertTOClass(self):\n",
    "        def myfunc(angle):\n",
    "            if angle == 1.05:\n",
    "                return 20\n",
    "            return math.floor(10*(angle+1.05))\n",
    "        \n",
    "        self.data_frame.columns = ['ID', 'Angle']\n",
    "        self.data_frame['Angle'] = self.data_frame.apply(lambda x: myfunc(x.Angle), axis=1)\n",
    "        "
   ]
  },
  {
   "cell_type": "code",
   "execution_count": 10,
   "metadata": {
    "scrolled": true
   },
   "outputs": [
    {
     "name": "stdout",
     "output_type": "stream",
     "text": [
      "[10 11  9  8  7  6  4  5 12 13  3  1  0  2 14 16 20 17 15 18 19]\n",
      "21\n",
      "   ID  Angle\n",
      "0   0     10\n",
      "1   1     10\n",
      "2   2     10\n",
      "3   3     10\n",
      "4   4     10\n",
      "5   5     10\n",
      "6   6     10\n",
      "7   7     10\n",
      "8   8     10\n",
      "9   9     10\n"
     ]
    },
    {
     "data": {
      "image/png": "[encoded data removed]",
      "text/plain": [
       "<Figure size 216x1800 with 3 Axes>"
      ]
     },
     "metadata": {
      "needs_background": "light"
     },
     "output_type": "display_data"
    }
   ],
   "source": [
    "if __name__ == \"__main__\":\n",
    "    stack_size = 1\n",
    "    dataset = ControlsDataset(stack_size, classes = classes)\n",
    "    dataset.convertTOClass()\n",
    "    dataloader = DataLoader(dataset, batch_size = 4, shuffle = True, num_workers = 0)\n",
    "    print(dataset.data_frame[\"Angle\"].unique())\n",
    "    print(len(dataset.data_frame[\"Angle\"].unique()))\n",
    "    print(dataset.data_frame.head(10))\n",
    "    \"\"\"\n",
    "    for i_batch, sampled_batch in enumerate(dataloader):\n",
    "        #print(sampled_batch['control'][0])\n",
    "        print(sampled_batch[\"control\"])\n",
    "        print(\"-------------------------\")\n",
    "    \"\"\"\n",
    "    \n",
    "    img_stack = dataset[0]['image']\n",
    "    f, ax = plt.subplots(stack_size, 3, figsize=(3*stack_size,25))\n",
    "    ax = ax.reshape((stack_size,3))\n",
    "    for k in range(3*stack_size):\n",
    "        i,j = k//3, k % 3\n",
    "        ax[i,j].imshow(img_stack[k],cmap='gray')\n",
    "    "
   ]
  },
  {
   "cell_type": "code",
   "execution_count": null,
   "metadata": {},
   "outputs": [],
   "source": []
  },
  {
   "cell_type": "code",
   "execution_count": null,
   "metadata": {},
   "outputs": [],
   "source": []
  },
  {
   "cell_type": "code",
   "execution_count": null,
   "metadata": {},
   "outputs": [],
   "source": []
  }
 ],
 "metadata": {
  "kernelspec": {
   "display_name": "Python 3",
   "language": "python",
   "name": "python3"
  },
  "language_info": {
   "codemirror_mode": {
    "name": "ipython",
    "version": 3
   },
   "file_extension": ".py",
   "mimetype": "text/x-python",
   "name": "python",
   "nbconvert_exporter": "python",
   "pygments_lexer": "ipython3",
   "version": "3.7.6"
  }
 },
 "nbformat": 4,
 "nbformat_minor": 2
}
