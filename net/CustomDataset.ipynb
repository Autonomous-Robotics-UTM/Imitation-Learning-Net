{
 "cells": [
  {
   "cell_type": "code",
   "execution_count": 1,
   "metadata": {},
   "outputs": [],
   "source": [
    "import os\n",
    "import torch\n",
    "import pandas as pd\n",
    "from skimage import io, transform\n",
    "import numpy as np\n",
    "import matplotlib.pyplot as plt\n",
    "from torch.utils.data import Dataset, DataLoader\n",
    "# from torchvision import transforms, utils\n",
    "\n",
    "# Ignore warnings\n",
    "import warnings\n",
    "warnings.filterwarnings(\"ignore\")\n",
    "\n",
    "plt.ion()   # interactive mode"
   ]
  },
  {
   "cell_type": "code",
   "execution_count": 2,
   "metadata": {},
   "outputs": [],
   "source": [
    "class ControlsDataset(Dataset):\n",
    "    \"\"\"Dataset that maps camera images into steering angle\"\"\"\n",
    "    def __init__(self, img_folder = \"data/\", csv_path=\"data/data.csv\"):\n",
    "        self.img_folder = img_folder\n",
    "        # index_col = 0 so panda does not choose its own indexing\n",
    "        self.data_frame = pd.read_csv(csv_path, index_col = 0)\n",
    "            \n",
    "    def __len__(self):\n",
    "        return len(self.data_frame)\n",
    "    \n",
    "    def __getitem__(self, idx):\n",
    "        img_filename = \"{0}{1:06d}.jpg\".format(self.img_folder, idx)\n",
    "        img = io.imread(img_filename)\n",
    "        img = np.array(img).transpose((2,0,1))\n",
    "        \n",
    "#         print(img.shape)\n",
    "                \n",
    "        control = self.data_frame.iloc[idx,0]\n",
    "        control = np.array([control])\n",
    "        \n",
    "        sample = {'image': img, \n",
    "                  'control': control}\n",
    "        \n",
    "        return sample"
   ]
  },
  {
   "cell_type": "code",
   "execution_count": 4,
   "metadata": {
    "scrolled": true
   },
   "outputs": [],
   "source": [
    "dataset = ControlsDataset()\n",
    "dataloader = DataLoader(dataset, batch_size = 4, shuffle = True, num_workers = 4)\n",
    "\n",
    "# dataset[0]['image']"
   ]
  },
  {
   "cell_type": "code",
   "execution_count": null,
   "metadata": {
    "scrolled": false
   },
   "outputs": [],
   "source": []
  },
  {
   "cell_type": "code",
   "execution_count": null,
   "metadata": {},
   "outputs": [],
   "source": []
  },
  {
   "cell_type": "code",
   "execution_count": null,
   "metadata": {},
   "outputs": [],
   "source": []
  }
 ],
 "metadata": {
  "kernelspec": {
   "display_name": "Python 3",
   "language": "python",
   "name": "python3"
  },
  "language_info": {
   "codemirror_mode": {
    "name": "ipython",
    "version": 3
   },
   "file_extension": ".py",
   "mimetype": "text/x-python",
   "name": "python",
   "nbconvert_exporter": "python",
   "pygments_lexer": "ipython3",
   "version": "3.7.4"
  }
 },
 "nbformat": 4,
 "nbformat_minor": 2
}
