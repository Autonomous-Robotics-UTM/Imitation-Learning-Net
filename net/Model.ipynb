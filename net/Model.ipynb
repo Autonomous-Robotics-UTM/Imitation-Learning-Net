{
 "cells": [
  {
   "cell_type": "code",
   "execution_count": 2,
   "metadata": {},
   "outputs": [],
   "source": [
    "import import_ipynb\n",
    "from CustomDataset import ControlsDataset\n",
    "\n",
    "import os\n",
    "import torch\n",
    "from skimage import io, transform\n",
    "import numpy as np\n",
    "import matplotlib.pyplot as plt\n",
    "from torch.utils.data import Dataset, DataLoader\n",
    "import torch.nn as nn\n",
    "import torch.nn.functional as F\n",
    "\n",
    "# Ignore warnings\n",
    "import warnings\n",
    "warnings.filterwarnings(\"ignore\")\n",
    "\n",
    "plt.ion()   # interactive mode"
   ]
  },
  {
   "cell_type": "code",
   "execution_count": 3,
   "metadata": {},
   "outputs": [
    {
     "name": "stdout",
     "output_type": "stream",
     "text": [
      "   Number  Angle\n",
      "0       0      9\n",
      "1       1      9\n",
      "2       2      9\n",
      "3       3      9\n",
      "4       4      9\n",
      "5       5      9\n",
      "6       6      9\n",
      "7       7      9\n",
      "8       8      9\n",
      "9       9      9\n"
     ]
    }
   ],
   "source": [
    "dataset = ControlsDataset()\n",
    "dataset.convertTOClass()\n",
    "dataloader = DataLoader(dataset, batch_size = 256, shuffle = True, num_workers = 0)\n",
    "print(dataset.data_frame.head(10))"
   ]
  },
  {
   "cell_type": "code",
   "execution_count": 4,
   "metadata": {},
   "outputs": [
    {
     "name": "stdout",
     "output_type": "stream",
     "text": [
      "units after conv 512\n",
      "conv parameters:  168224\n",
      "fc parameters:  166804\n"
     ]
    }
   ],
   "source": [
    "class ConvNet(nn.Module):\n",
    "    def __init__(self):\n",
    "        super(ConvNet, self).__init__()\n",
    "        img_size = torch.Size([1, 3, 480, 640]) # [batch_size, channels, height, width]\n",
    "        empty = torch.zeros(img_size)\n",
    "        \n",
    "        # Conv2d(in_channels, out_channels, kernelSize, strides)\n",
    "        # stride=3 ==> moving Filter 3 pixels between the application of kernel size\n",
    "        self.conv = nn.Sequential(nn.Conv2d(3, 16, 11, stride=3),\n",
    "                                  nn.MaxPool2d(2),\n",
    "                                  nn.ReLU(),\n",
    "                                  nn.Conv2d(16, 32, 11, stride=3),\n",
    "                                  nn.MaxPool2d(2),\n",
    "                                  nn.ReLU(),\n",
    "                                  nn.Conv2d(32, 64, 7, stride=3),\n",
    "                                  nn.ReLU()\n",
    "                                 )\n",
    "        \n",
    "        units = self.conv(empty).numel()\n",
    "        print(\"units after conv\", units)\n",
    "        \n",
    "        self.fc = nn.Sequential(nn.Linear(units, units//2),\n",
    "                                nn.ReLU(),\n",
    "                                nn.Linear(units//2, units//4),\n",
    "                                nn.ReLU(),\n",
    "                                nn.Linear(units//4, 20)) # <-- Returning predictions over classes\n",
    "        \n",
    "        print(\"conv parameters: \", sum(p.numel() for p in self.conv.parameters()))\n",
    "        print(\"fc parameters: \", sum(p.numel() for p in self.fc.parameters()))\n",
    "    \n",
    "    def forward(self, x):\n",
    "        #x: batch, channel, height, width\n",
    "        batch_size = x.shape[0]\n",
    "        \n",
    "        out = self.conv(x)\n",
    "        out = out.reshape((batch_size,-1))\n",
    "        out = self.fc(out)\n",
    "        #print(out)\n",
    "        return out\n",
    "net = ConvNet()"
   ]
  },
  {
   "cell_type": "code",
   "execution_count": 5,
   "metadata": {},
   "outputs": [
    {
     "name": "stdout",
     "output_type": "stream",
     "text": [
      "input torch.Size([256, 3, 480, 640])\n",
      "tensor([[-3.5550e-01, -3.7449e-01,  5.0028e-02,  ..., -1.2383e-03,\n",
      "         -6.0888e-01,  8.8046e-01],\n",
      "        [-4.6440e-01, -2.6299e-01, -1.8469e-01,  ..., -1.0739e-01,\n",
      "         -6.3015e-01,  1.2373e+00],\n",
      "        [-5.9545e-01, -5.3449e-01, -4.1917e-01,  ..., -4.0859e-01,\n",
      "         -9.5157e-01,  1.6170e+00],\n",
      "        ...,\n",
      "        [-4.9995e-01, -6.2073e-01, -5.0466e-01,  ..., -2.3809e-01,\n",
      "         -1.2555e+00,  1.2835e+00],\n",
      "        [-3.9473e-01, -2.6195e-01,  9.0336e-02,  ..., -3.1958e-01,\n",
      "         -8.4353e-01,  1.1560e+00],\n",
      "        [-3.7653e-01, -8.3684e-01, -1.4487e-01,  ..., -1.1076e-01,\n",
      "         -1.1628e-01,  1.1601e+00]], grad_fn=<AddmmBackward>)\n",
      "output torch.Size([256, 20])\n"
     ]
    }
   ],
   "source": [
    "for i, batch in enumerate(dataloader):\n",
    "    if i > 0:\n",
    "        break\n",
    "    \n",
    "    imgs = batch['image'].float()\n",
    "    print(\"input\", imgs.shape)\n",
    "    out = net(imgs)\n",
    "    print(\"output\", out.shape)"
   ]
  },
  {
   "cell_type": "code",
   "execution_count": null,
   "metadata": {},
   "outputs": [],
   "source": []
  },
  {
   "cell_type": "code",
   "execution_count": null,
   "metadata": {},
   "outputs": [],
   "source": []
  },
  {
   "cell_type": "code",
   "execution_count": null,
   "metadata": {},
   "outputs": [],
   "source": []
  },
  {
   "cell_type": "code",
   "execution_count": null,
   "metadata": {},
   "outputs": [],
   "source": []
  }
 ],
 "metadata": {
  "kernelspec": {
   "display_name": "Python 3",
   "language": "python",
   "name": "python3"
  },
  "language_info": {
   "codemirror_mode": {
    "name": "ipython",
    "version": 3
   },
   "file_extension": ".py",
   "mimetype": "text/x-python",
   "name": "python",
   "nbconvert_exporter": "python",
   "pygments_lexer": "ipython3",
   "version": "3.7.6"
  }
 },
 "nbformat": 4,
 "nbformat_minor": 2
}
