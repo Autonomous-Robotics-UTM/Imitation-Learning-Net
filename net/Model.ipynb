{
 "cells": [
  {
   "cell_type": "code",
   "execution_count": 6,
   "metadata": {},
   "outputs": [],
   "source": [
    "import import_ipynb\n",
    "from CustomDataset import ControlsDataset\n",
    "\n",
    "import os\n",
    "import torch\n",
    "from skimage import io, transform\n",
    "import numpy as np\n",
    "import matplotlib.pyplot as plt\n",
    "from torch.utils.data import Dataset, DataLoader\n",
    "import torch.nn as nn\n",
    "import torch.nn.functional as F\n",
    "\n",
    "# Ignore warnings\n",
    "import warnings\n",
    "warnings.filterwarnings(\"ignore\")\n",
    "\n",
    "plt.ion()   # interactive mode"
   ]
  },
  {
   "cell_type": "code",
   "execution_count": 7,
   "metadata": {},
   "outputs": [],
   "source": [
    "dataset = ControlsDataset()\n",
    "dataloader = DataLoader(dataset, batch_size = 4, shuffle = True, num_workers = 0)"
   ]
  },
  {
   "cell_type": "code",
   "execution_count": 8,
   "metadata": {},
   "outputs": [
    {
     "name": "stdout",
     "output_type": "stream",
     "text": [
      "('units after conv', 512)\n",
      "('conv parameters: ', 168224)\n",
      "('fc parameters: ', 166804)\n"
     ]
    }
   ],
   "source": [
    "class ConvNet(nn.Module):\n",
    "    def __init__(self):\n",
    "        super(ConvNet, self).__init__()\n",
    "        img_size = torch.Size([1, 3, 480, 640]) # [batch_size, channels, height, width]\n",
    "        empty = torch.zeros(img_size)\n",
    "        \n",
    "        # Conv2d(in_channels, out_channels, kernelSize, strides)\n",
    "        # stride=3 ==> moving Filter 3 pixels between the application of kernel size\n",
    "        self.conv = nn.Sequential(nn.Conv2d(3, 16, 11, stride=3),\n",
    "                                  nn.MaxPool2d(2),\n",
    "                                  nn.ReLU(),\n",
    "                                  nn.Conv2d(16, 32, 11, stride=3),\n",
    "                                  nn.MaxPool2d(2),\n",
    "                                  nn.ReLU(),\n",
    "                                  nn.Conv2d(32, 64, 7, stride=3),\n",
    "                                  nn.ReLU()\n",
    "                                 )\n",
    "        \n",
    "        units = self.conv(empty).numel()\n",
    "        print(\"units after conv\", units)\n",
    "        \n",
    "        self.fc = nn.Sequential(nn.Linear(units, units//2),\n",
    "                                nn.ReLU(),\n",
    "                                nn.Linear(units//2, units//4),\n",
    "                                nn.ReLU(),\n",
    "                                nn.Linear(units//4, 20)) # <-- Returning predictions over classes\n",
    "        \n",
    "        print(\"conv parameters: \", sum(p.numel() for p in self.conv.parameters()))\n",
    "        print(\"fc parameters: \", sum(p.numel() for p in self.fc.parameters()))\n",
    "    \n",
    "    def forward(self, x):\n",
    "        #x: batch, channel, height, width\n",
    "        batch_size = x.shape[0]\n",
    "        \n",
    "        out = self.conv(x)\n",
    "        out = out.reshape((batch_size,-1))\n",
    "        out = self.fc(out)\n",
    "        return F.log_softmax(out, dim=1)\n",
    "net = ConvNet()"
   ]
  },
  {
   "cell_type": "code",
   "execution_count": 9,
   "metadata": {},
   "outputs": [
    {
     "name": "stdout",
     "output_type": "stream",
     "text": [
      "('input', torch.Size([4, 3, 480, 640]))\n",
      "('output', torch.Size([4, 20]))\n"
     ]
    }
   ],
   "source": [
    "for i, batch in enumerate(dataloader):\n",
    "    if i > 0:\n",
    "        break\n",
    "        \n",
    "    imgs = batch['image'].float()\n",
    "    print(\"input\", imgs.shape)\n",
    "    out = net(imgs)\n",
    "    print(\"output\", out.shape)"
   ]
  },
  {
   "cell_type": "code",
   "execution_count": null,
   "metadata": {},
   "outputs": [],
   "source": []
  },
  {
   "cell_type": "code",
   "execution_count": null,
   "metadata": {},
   "outputs": [],
   "source": []
  },
  {
   "cell_type": "code",
   "execution_count": null,
   "metadata": {},
   "outputs": [],
   "source": []
  },
  {
   "cell_type": "code",
   "execution_count": null,
   "metadata": {},
   "outputs": [],
   "source": []
  }
 ],
 "metadata": {
  "kernelspec": {
   "display_name": "Python 2",
   "language": "python",
   "name": "python2"
  },
  "language_info": {
   "codemirror_mode": {
    "name": "ipython",
    "version": 2
   },
   "file_extension": ".py",
   "mimetype": "text/x-python",
   "name": "python",
   "nbconvert_exporter": "python",
   "pygments_lexer": "ipython2",
   "version": "2.7.16"
  }
 },
 "nbformat": 4,
 "nbformat_minor": 2
}
