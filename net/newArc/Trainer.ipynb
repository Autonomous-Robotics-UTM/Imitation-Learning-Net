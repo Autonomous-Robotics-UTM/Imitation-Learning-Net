{
 "cells": [
  {
   "cell_type": "code",
   "execution_count": 1,
   "metadata": {},
   "outputs": [
    {
     "name": "stdout",
     "output_type": "stream",
     "text": [
      "importing Jupyter notebook from CustomDataset.ipynb\n",
      "importing Jupyter notebook from Model.ipynb\n",
      "using device cpu\n"
     ]
    }
   ],
   "source": [
    "import os\n",
    "import sys\n",
    "import torch\n",
    "from skimage import io, transform\n",
    "import numpy as np\n",
    "import matplotlib.pyplot as plt\n",
    "from sklearn.model_selection import train_test_split\n",
    "import torch.nn as nn\n",
    "import torch.optim as optim\n",
    "import math\n",
    "import scipy.stats as stats\n",
    "\n",
    "\n",
    "import import_ipynb\n",
    "from CustomDataset import ControlsDataset\n",
    "from Model import ConvNet\n",
    "\n",
    "device = torch.device('cuda' if torch.cuda.is_available() else 'cpu')\n",
    "device = 'cpu'\n",
    "print('using device', device)"
   ]
  },
  {
   "cell_type": "code",
   "execution_count": 2,
   "metadata": {},
   "outputs": [],
   "source": [
    "torch.cuda.empty_cache()"
   ]
  },
  {
   "cell_type": "code",
   "execution_count": 3,
   "metadata": {},
   "outputs": [
    {
     "name": "stdout",
     "output_type": "stream",
     "text": [
      "Data size 1101\n",
      "Total training stacks 7\n",
      "Total validation stacks 2\n"
     ]
    }
   ],
   "source": [
    "dataset = ControlsDataset()\n",
    "dataset.labels.num_categories = 21\n",
    "dataset.labels.transform.categorize(1.05, -1.05, 21)\n",
    "dataset.images.set_grayscale(False)\n",
    "print(\"Data size\", len(dataset.labels))\n",
    "dataset.make_dataloaders()"
   ]
  },
  {
   "cell_type": "code",
   "execution_count": 4,
   "metadata": {},
   "outputs": [
    {
     "name": "stdout",
     "output_type": "stream",
     "text": [
      "number of parameters:  6678937\n"
     ]
    }
   ],
   "source": [
    "net = ConvNet(color_channels = 3, outputs = 14, dataset = dataset).to(device)\n",
    "# net = ConvNet(color_channels = 1, outputs = 21, dataset = dataset).to(device)\n",
    "print(\"number of parameters: \", sum(p.numel() for p in net.parameters()))"
   ]
  },
  {
   "cell_type": "code",
   "execution_count": 5,
   "metadata": {
    "scrolled": true
   },
   "outputs": [
    {
     "name": "stdout",
     "output_type": "stream",
     "text": [
      "        ID  Angle  Category\n",
      "0        0    0.0        10\n",
      "1        1    0.0        10\n",
      "2        2    0.0        10\n",
      "3        3    0.0        10\n",
      "4        4    0.0        10\n",
      "...    ...    ...       ...\n",
      "1096  1096    0.0        10\n",
      "1097  1097    0.0        10\n",
      "1098  1098    0.0        10\n",
      "1099  1099    0.0        10\n",
      "1100  1100    0.0        10\n",
      "\n",
      "[1101 rows x 3 columns]\n",
      "[ 54   9   3   7   6  16  34  38  46  86 764  22   4  12]\n",
      "14\n"
     ]
    },
    {
     "data": {
      "image/png": "[encoded data removed]",
      "text/plain": [
       "<Figure size 432x288 with 1 Axes>"
      ]
     },
     "metadata": {
      "needs_background": "light"
     },
     "output_type": "display_data"
    }
   ],
   "source": [
    "print(dataset.labels.dataframe)\n",
    "counts = dataset.labels.dataframe.groupby('Category')['ID'].count()\n",
    "array = np.array(counts)\n",
    "print(array)\n",
    "print(len(array))\n",
    "dataset.labels.histogram()\n",
    "# weights = max(counts)/array\n",
    "# weights = torch.Tensor(weights).to(device)\n",
    "# print(weights)\n",
    "ratio = max(counts)/array\n",
    "\n"
   ]
  },
  {
   "cell_type": "code",
   "execution_count": 6,
   "metadata": {},
   "outputs": [
    {
     "data": {
      "image/png": "[encoded data removed]",
      "text/plain": [
       "<Figure size 432x288 with 1 Axes>"
      ]
     },
     "metadata": {
      "needs_background": "light"
     },
     "output_type": "display_data"
    },
    {
     "name": "stdout",
     "output_type": "stream",
     "text": [
      "tensor([ 14.1481,  84.8889, 254.6667, 109.1429, 127.3333,  47.7500,  22.4706,\n",
      "         20.1053,  16.6087,   8.8837,   1.0000,  34.7273, 191.0000,  63.6667])\n"
     ]
    }
   ],
   "source": [
    "mu, variance = 10.5, 4\n",
    "sigma = math.sqrt(variance) \n",
    "x = np.linspace(0, 21, 21)\n",
    "pdf = stats.norm.pdf(x, mu, sigma)\n",
    "inv = ((np.ones(len(x)) * (max(pdf))) - pdf)/max(pdf) + 1\n",
    "\n",
    "plt.xlim([0,21])\n",
    "plt.ylim([0,1.2])\n",
    "plt.plot(x, inv)\n",
    "plt.title(\"Weights Representation\")\n",
    "plt.xlabel(\"Categories\")\n",
    "plt.ylabel(\"weights\")\n",
    "plt.show()\n",
    "\n",
    "weights = ratio\n",
    "weights = torch.Tensor(weights).to(device)\n",
    "print(weights)"
   ]
  },
  {
   "cell_type": "code",
   "execution_count": 7,
   "metadata": {},
   "outputs": [
    {
     "data": {
      "text/plain": [
       "array([0.  , 0.  , 0.25, 0.5 , 0.75, 1.  ])"
      ]
     },
     "execution_count": 7,
     "metadata": {},
     "output_type": "execute_result"
    }
   ],
   "source": [
    "from scipy.stats import uniform\n",
    "\n",
    "uniform.cdf([0, 1, 2, 3, 4, 5], loc=1, scale=4)"
   ]
  },
  {
   "cell_type": "code",
   "execution_count": 8,
   "metadata": {
    "scrolled": true
   },
   "outputs": [
    {
     "name": "stdout",
     "output_type": "stream",
     "text": [
      "<class 'torch.Tensor'>\n",
      "Loss: tensor(2.6671, grad_fn=<NllLossBackward>)\n",
      "IN THIS BATCH\n",
      "Loss: tensor(2.6063, grad_fn=<NllLossBackward>)\n",
      "IN THIS BATCH\n",
      "Loss: tensor(2.7038, grad_fn=<NllLossBackward>)\n",
      "IN THIS BATCH\n",
      "Loss: tensor(2.6009, grad_fn=<NllLossBackward>)\n",
      "IN THIS BATCH\n",
      "Loss: tensor(2.6484, grad_fn=<NllLossBackward>)\n",
      "IN THIS BATCH\n",
      "Loss: tensor(2.6429, grad_fn=<NllLossBackward>)\n",
      "IN THIS BATCH\n",
      "Loss: tensor(2.6961, grad_fn=<NllLossBackward>)\n",
      "IN THIS BATCH\n",
      "Completed Epoch 0\n",
      "Loss: tensor(2.6269, grad_fn=<NllLossBackward>)\n",
      "IN THIS BATCH\n",
      "Loss: tensor(2.6107, grad_fn=<NllLossBackward>)\n",
      "IN THIS BATCH\n",
      "Loss: tensor(2.5973, grad_fn=<NllLossBackward>)\n",
      "IN THIS BATCH\n",
      "Loss: tensor(2.6592, grad_fn=<NllLossBackward>)\n",
      "IN THIS BATCH\n",
      "Loss: tensor(2.5790, grad_fn=<NllLossBackward>)\n",
      "IN THIS BATCH\n",
      "Loss: tensor(2.6528, grad_fn=<NllLossBackward>)\n",
      "IN THIS BATCH\n",
      "Loss: tensor(2.6664, grad_fn=<NllLossBackward>)\n",
      "IN THIS BATCH\n",
      "Completed Epoch 1\n",
      "Loss: tensor(2.5813, grad_fn=<NllLossBackward>)\n",
      "IN THIS BATCH\n",
      "Loss: tensor(2.5841, grad_fn=<NllLossBackward>)\n",
      "IN THIS BATCH\n",
      "Loss: tensor(2.5959, grad_fn=<NllLossBackward>)\n",
      "IN THIS BATCH\n",
      "Loss: tensor(2.6856, grad_fn=<NllLossBackward>)\n",
      "IN THIS BATCH\n",
      "Loss: tensor(2.5907, grad_fn=<NllLossBackward>)\n",
      "IN THIS BATCH\n",
      "Loss: tensor(2.5864, grad_fn=<NllLossBackward>)\n",
      "IN THIS BATCH\n",
      "Loss: tensor(2.6658, grad_fn=<NllLossBackward>)\n",
      "IN THIS BATCH\n",
      "Completed Epoch 2\n",
      "Loss: tensor(2.5747, grad_fn=<NllLossBackward>)\n",
      "IN THIS BATCH\n",
      "Loss: tensor(2.5688, grad_fn=<NllLossBackward>)\n",
      "IN THIS BATCH\n",
      "Loss: tensor(2.5828, grad_fn=<NllLossBackward>)\n",
      "IN THIS BATCH\n",
      "Loss: tensor(2.6282, grad_fn=<NllLossBackward>)\n",
      "IN THIS BATCH\n",
      "Loss: tensor(2.5979, grad_fn=<NllLossBackward>)\n"
     ]
    },
    {
     "ename": "KeyboardInterrupt",
     "evalue": "",
     "output_type": "error",
     "traceback": [
      "\u001b[0;31m---------------------------------------------------------------------------\u001b[0m",
      "\u001b[0;31mKeyboardInterrupt\u001b[0m                         Traceback (most recent call last)",
      "\u001b[0;32m<ipython-input-8-bda72704f059>\u001b[0m in \u001b[0;36m<module>\u001b[0;34m\u001b[0m\n\u001b[1;32m      9\u001b[0m \u001b[0;31m#net.load(\"snapshots/1.217_model.pt\")\u001b[0m\u001b[0;34m\u001b[0m\u001b[0;34m\u001b[0m\u001b[0;34m\u001b[0m\u001b[0m\n\u001b[1;32m     10\u001b[0m \u001b[0;34m\u001b[0m\u001b[0m\n\u001b[0;32m---> 11\u001b[0;31m \u001b[0mnet\u001b[0m\u001b[0;34m.\u001b[0m\u001b[0mfit\u001b[0m\u001b[0;34m(\u001b[0m\u001b[0mdevice\u001b[0m\u001b[0;34m,\u001b[0m\u001b[0mepochs\u001b[0m\u001b[0;34m,\u001b[0m\u001b[0moptimizer\u001b[0m\u001b[0;34m,\u001b[0m\u001b[0mcriterion\u001b[0m\u001b[0;34m)\u001b[0m\u001b[0;34m\u001b[0m\u001b[0;34m\u001b[0m\u001b[0m\n\u001b[0m",
      "\u001b[0;32m~/Documents/School/CSC493/self-driving-rl/net/newArc/Model.ipynb\u001b[0m in \u001b[0;36mfit\u001b[0;34m(self, device, epochs, optimizer, criterion)\u001b[0m\n",
      "\u001b[0;32m/usr/local/lib/python3.7/site-packages/torch/tensor.py\u001b[0m in \u001b[0;36mbackward\u001b[0;34m(self, gradient, retain_graph, create_graph)\u001b[0m\n\u001b[1;32m    193\u001b[0m                 \u001b[0mproducts\u001b[0m\u001b[0;34m.\u001b[0m \u001b[0mDefaults\u001b[0m \u001b[0mto\u001b[0m\u001b[0;31m \u001b[0m\u001b[0;31m`\u001b[0m\u001b[0;31m`\u001b[0m\u001b[0;32mFalse\u001b[0m\u001b[0;31m`\u001b[0m\u001b[0;31m`\u001b[0m\u001b[0;34m.\u001b[0m\u001b[0;34m\u001b[0m\u001b[0;34m\u001b[0m\u001b[0m\n\u001b[1;32m    194\u001b[0m         \"\"\"\n\u001b[0;32m--> 195\u001b[0;31m         \u001b[0mtorch\u001b[0m\u001b[0;34m.\u001b[0m\u001b[0mautograd\u001b[0m\u001b[0;34m.\u001b[0m\u001b[0mbackward\u001b[0m\u001b[0;34m(\u001b[0m\u001b[0mself\u001b[0m\u001b[0;34m,\u001b[0m \u001b[0mgradient\u001b[0m\u001b[0;34m,\u001b[0m \u001b[0mretain_graph\u001b[0m\u001b[0;34m,\u001b[0m \u001b[0mcreate_graph\u001b[0m\u001b[0;34m)\u001b[0m\u001b[0;34m\u001b[0m\u001b[0;34m\u001b[0m\u001b[0m\n\u001b[0m\u001b[1;32m    196\u001b[0m \u001b[0;34m\u001b[0m\u001b[0m\n\u001b[1;32m    197\u001b[0m     \u001b[0;32mdef\u001b[0m \u001b[0mregister_hook\u001b[0m\u001b[0;34m(\u001b[0m\u001b[0mself\u001b[0m\u001b[0;34m,\u001b[0m \u001b[0mhook\u001b[0m\u001b[0;34m)\u001b[0m\u001b[0;34m:\u001b[0m\u001b[0;34m\u001b[0m\u001b[0;34m\u001b[0m\u001b[0m\n",
      "\u001b[0;32m/usr/local/lib/python3.7/site-packages/torch/autograd/__init__.py\u001b[0m in \u001b[0;36mbackward\u001b[0;34m(tensors, grad_tensors, retain_graph, create_graph, grad_variables)\u001b[0m\n\u001b[1;32m     97\u001b[0m     Variable._execution_engine.run_backward(\n\u001b[1;32m     98\u001b[0m         \u001b[0mtensors\u001b[0m\u001b[0;34m,\u001b[0m \u001b[0mgrad_tensors\u001b[0m\u001b[0;34m,\u001b[0m \u001b[0mretain_graph\u001b[0m\u001b[0;34m,\u001b[0m \u001b[0mcreate_graph\u001b[0m\u001b[0;34m,\u001b[0m\u001b[0;34m\u001b[0m\u001b[0;34m\u001b[0m\u001b[0m\n\u001b[0;32m---> 99\u001b[0;31m         allow_unreachable=True)  # allow_unreachable flag\n\u001b[0m\u001b[1;32m    100\u001b[0m \u001b[0;34m\u001b[0m\u001b[0m\n\u001b[1;32m    101\u001b[0m \u001b[0;34m\u001b[0m\u001b[0m\n",
      "\u001b[0;31mKeyboardInterrupt\u001b[0m: "
     ]
    }
   ],
   "source": [
    "epochs = 30\n",
    "optimizer = optim.Adam(net.parameters(), lr=0.0001)\n",
    "print(type(weights))\n",
    "criterion = nn.CrossEntropyLoss(weight=weights) # Changed from Mean-Squared to Cross-Entropy\n",
    "# criterion = nn.MSELoss()\n",
    "net.report_period = 20\n",
    "\n",
    "net.optimizer = optimizer\n",
    "#net.load(\"snapshots/1.217_model.pt\")\n",
    "\n",
    "net.fit(device,epochs,optimizer,criterion)"
   ]
  },
  {
   "cell_type": "code",
   "execution_count": null,
   "metadata": {},
   "outputs": [],
   "source": [
    "# End of training Validation Test\n",
    "#net.load(\"snapshots/0.727_model.pt\")\n",
    "#total, correct = net.score(device,dataset, \"categorical\")\n",
    "\n",
    "total = 0\n",
    "correct = 0\n",
    "for i_batch, sampled_batch in enumerate(dataset.validloader):\n",
    "    images = sampled_batch['image'].to(device).float()\n",
    "    controls = sampled_batch['control'].to(device).long()\n",
    "    controls = torch.flatten(controls)\n",
    "    prediction = net(images)\n",
    "\n",
    "    maximum = torch.argmax(prediction,dim = 1)\n",
    "    print(maximum)\n",
    "    print(controls)\n",
    "    shared = maximum == controls\n",
    "    shared = 1 * shared\n",
    "    correct += int(torch.sum(shared))\n",
    "    total += len(controls)\n",
    "\n",
    "print(\"{:.1f}% classified correctly\".format(100*correct/total))"
   ]
  },
  {
   "cell_type": "code",
   "execution_count": null,
   "metadata": {},
   "outputs": [],
   "source": [
    "# Beginning of training Validation Test\n",
    "net.load(\"snapshots/3.002_model.pt\")\n",
    "total, correct = net.score(device,dataset, \"categorical\")\n",
    "print(\"{:.1f}% classified correctly\".format(100*correct/total))"
   ]
  },
  {
   "cell_type": "code",
   "execution_count": null,
   "metadata": {},
   "outputs": [],
   "source": [
    "# Function to compute adversarial noise given a trained net \n",
    "def compute_noise(net, lr, data_sample):\n",
    "    input_img = data_sample['image'].to(device).float()\n",
    "    control = data_sample['control'].to(device).long()\n",
    "    \n",
    "    # remember grad for image for adversarial attack\n",
    "    input_img.requires_grad = True\n",
    "\n",
    "    # pass img through the net \n",
    "    output = net(input_img)\n",
    "    pred = torch.argmax(output, dim = 1)\n",
    "    if pred != control:\n",
    "        # nothing to fool if prediction aint right in the first place  \n",
    "        return 0\n",
    "\n",
    "    loss = F.nll_loss(output, control)\n",
    "    # zero out gradients\n",
    "    model.zero_grad()\n",
    "    loss.backward()\n",
    "\n",
    "    # get all the gradient data for computing adversarial noise \n",
    "    grads = input_img.grad.data\n",
    "\n",
    "    # get element-wise sign of grad data\n",
    "    # idk the tutorial did this: https://pytorch.org/tutorials/beginner/fgsm_tutorial.html\n",
    "    grads_signs = grads.sign()\n",
    "\n",
    "    # create adversarial noise\n",
    "    adv_noise = lr*grads_signs\n",
    "\n",
    "    # compute adverarial image by adding noise to input image\n",
    "    adv_input = input_img + adv_noise\n",
    "\n",
    "    # run net on adv_image and see if we succeded in fooling it \n",
    "    adv_output = net(adv_input)\n",
    "    adv_pred = torch.argmax(adv_output, dim = 1)\n",
    "    if adv_pred == control:\n",
    "        # adv attack failed, either net is good or my code is bad \n",
    "        return -1\n",
    "    else:\n",
    "        return adv_noise, adv_input, pred, adv_pred, control\n"
   ]
  },
  {
   "cell_type": "code",
   "execution_count": null,
   "metadata": {},
   "outputs": [],
   "source": []
  },
  {
   "cell_type": "code",
   "execution_count": null,
   "metadata": {},
   "outputs": [],
   "source": [
    "torch.cuda.empty_cache()"
   ]
  },
  {
   "cell_type": "code",
   "execution_count": null,
   "metadata": {},
   "outputs": [],
   "source": [
    "#Additional Info when using cuda\n",
    "device = torch.device('cuda' if torch.cuda.is_available() else 'cpu')\n",
    "if device.type == 'cuda':\n",
    "    print(torch.cuda.get_device_name(0))\n",
    "    print('Memory Usage:')\n",
    "    print('Allocated:', round(torch.cuda.memory_allocated(0)/1024**3,1), 'GB')\n",
    "    print('Cached:   ', round(torch.cuda.memory_cached(0)/1024))"
   ]
  },
  {
   "cell_type": "code",
   "execution_count": null,
   "metadata": {},
   "outputs": [],
   "source": []
  },
  {
   "cell_type": "code",
   "execution_count": null,
   "metadata": {},
   "outputs": [],
   "source": []
  }
 ],
 "metadata": {
  "kernelspec": {
   "display_name": "Python 3",
   "language": "python",
   "name": "python3"
  },
  "language_info": {
   "codemirror_mode": {
    "name": "ipython",
    "version": 3
   },
   "file_extension": ".py",
   "mimetype": "text/x-python",
   "name": "python",
   "nbconvert_exporter": "python",
   "pygments_lexer": "ipython3",
   "version": "3.7.6"
  }
 },
 "nbformat": 4,
 "nbformat_minor": 2
}
